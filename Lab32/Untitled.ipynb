{
 "cells": [
  {
   "cell_type": "code",
   "execution_count": 1,
   "id": "73f29b9d",
   "metadata": {},
   "outputs": [],
   "source": [
    "import pandas as pd\n",
    "import numpy as np"
   ]
  },
  {
   "cell_type": "code",
   "execution_count": 13,
   "id": "47e380f7",
   "metadata": {},
   "outputs": [],
   "source": [
    "data=pd.read_excel('D:/Téléchargements/example_data_cleaning.xlsx')"
   ]
  },
  {
   "cell_type": "code",
   "execution_count": 14,
   "id": "6332ec45",
   "metadata": {},
   "outputs": [
    {
     "data": {
      "text/html": [
       "<div>\n",
       "<style scoped>\n",
       "    .dataframe tbody tr th:only-of-type {\n",
       "        vertical-align: middle;\n",
       "    }\n",
       "\n",
       "    .dataframe tbody tr th {\n",
       "        vertical-align: top;\n",
       "    }\n",
       "\n",
       "    .dataframe thead th {\n",
       "        text-align: right;\n",
       "    }\n",
       "</style>\n",
       "<table border=\"1\" class=\"dataframe\">\n",
       "  <thead>\n",
       "    <tr style=\"text-align: right;\">\n",
       "      <th></th>\n",
       "      <th>TransactionID</th>\n",
       "      <th>ClientID</th>\n",
       "      <th>BirthYear</th>\n",
       "      <th>Amount</th>\n",
       "      <th>Profession</th>\n",
       "      <th>Department</th>\n",
       "      <th>Risk</th>\n",
       "    </tr>\n",
       "  </thead>\n",
       "  <tbody>\n",
       "    <tr>\n",
       "      <th>0</th>\n",
       "      <td>1</td>\n",
       "      <td>34982</td>\n",
       "      <td>2013.0</td>\n",
       "      <td>12900</td>\n",
       "      <td>Student</td>\n",
       "      <td>78</td>\n",
       "      <td>Low</td>\n",
       "    </tr>\n",
       "    <tr>\n",
       "      <th>1</th>\n",
       "      <td>2</td>\n",
       "      <td>34983</td>\n",
       "      <td>2015.0</td>\n",
       "      <td>1230</td>\n",
       "      <td>barmen</td>\n",
       "      <td>78</td>\n",
       "      <td>High</td>\n",
       "    </tr>\n",
       "    <tr>\n",
       "      <th>2</th>\n",
       "      <td>3</td>\n",
       "      <td>34984</td>\n",
       "      <td>1945.0</td>\n",
       "      <td>3450</td>\n",
       "      <td>student</td>\n",
       "      <td>78</td>\n",
       "      <td>Medium</td>\n",
       "    </tr>\n",
       "    <tr>\n",
       "      <th>3</th>\n",
       "      <td>4</td>\n",
       "      <td>34985</td>\n",
       "      <td>1923.0</td>\n",
       "      <td>5670</td>\n",
       "      <td>manager</td>\n",
       "      <td>78</td>\n",
       "      <td>Low</td>\n",
       "    </tr>\n",
       "    <tr>\n",
       "      <th>4</th>\n",
       "      <td>5</td>\n",
       "      <td>34986</td>\n",
       "      <td>1978.0</td>\n",
       "      <td>7890</td>\n",
       "      <td>hr</td>\n",
       "      <td>78</td>\n",
       "      <td>High</td>\n",
       "    </tr>\n",
       "  </tbody>\n",
       "</table>\n",
       "</div>"
      ],
      "text/plain": [
       "   TransactionID  ClientID  BirthYear  Amount Profession  Department    Risk\n",
       "0              1     34982     2013.0   12900    Student          78     Low\n",
       "1              2     34983     2015.0    1230     barmen          78    High\n",
       "2              3     34984     1945.0    3450    student          78  Medium\n",
       "3              4     34985     1923.0    5670    manager          78     Low\n",
       "4              5     34986     1978.0    7890         hr          78    High"
      ]
     },
     "execution_count": 14,
     "metadata": {},
     "output_type": "execute_result"
    }
   ],
   "source": [
    "data.head()"
   ]
  },
  {
   "cell_type": "code",
   "execution_count": 5,
   "id": "d566bd09",
   "metadata": {},
   "outputs": [
    {
     "data": {
      "text/plain": [
       "(30, 7)"
      ]
     },
     "execution_count": 5,
     "metadata": {},
     "output_type": "execute_result"
    }
   ],
   "source": [
    "data.shape"
   ]
  },
  {
   "cell_type": "code",
   "execution_count": 6,
   "id": "f8e6ec31",
   "metadata": {},
   "outputs": [
    {
     "data": {
      "text/html": [
       "<div>\n",
       "<style scoped>\n",
       "    .dataframe tbody tr th:only-of-type {\n",
       "        vertical-align: middle;\n",
       "    }\n",
       "\n",
       "    .dataframe tbody tr th {\n",
       "        vertical-align: top;\n",
       "    }\n",
       "\n",
       "    .dataframe thead th {\n",
       "        text-align: right;\n",
       "    }\n",
       "</style>\n",
       "<table border=\"1\" class=\"dataframe\">\n",
       "  <thead>\n",
       "    <tr style=\"text-align: right;\">\n",
       "      <th></th>\n",
       "      <th>TransactionID</th>\n",
       "      <th>ClientID</th>\n",
       "      <th>BirthYear</th>\n",
       "      <th>Amount</th>\n",
       "      <th>Department</th>\n",
       "    </tr>\n",
       "  </thead>\n",
       "  <tbody>\n",
       "    <tr>\n",
       "      <th>count</th>\n",
       "      <td>30.000000</td>\n",
       "      <td>30.000000</td>\n",
       "      <td>28.000000</td>\n",
       "      <td>3.000000e+01</td>\n",
       "      <td>30.0</td>\n",
       "    </tr>\n",
       "    <tr>\n",
       "      <th>mean</th>\n",
       "      <td>15.500000</td>\n",
       "      <td>34993.833333</td>\n",
       "      <td>1968.316327</td>\n",
       "      <td>1.010097e+05</td>\n",
       "      <td>78.0</td>\n",
       "    </tr>\n",
       "    <tr>\n",
       "      <th>std</th>\n",
       "      <td>8.803408</td>\n",
       "      <td>8.132876</td>\n",
       "      <td>27.963867</td>\n",
       "      <td>4.342616e+05</td>\n",
       "      <td>0.0</td>\n",
       "    </tr>\n",
       "    <tr>\n",
       "      <th>min</th>\n",
       "      <td>1.000000</td>\n",
       "      <td>34982.000000</td>\n",
       "      <td>1923.000000</td>\n",
       "      <td>1.230000e+03</td>\n",
       "      <td>78.0</td>\n",
       "    </tr>\n",
       "    <tr>\n",
       "      <th>25%</th>\n",
       "      <td>8.250000</td>\n",
       "      <td>34987.250000</td>\n",
       "      <td>1944.714286</td>\n",
       "      <td>1.233000e+04</td>\n",
       "      <td>78.0</td>\n",
       "    </tr>\n",
       "    <tr>\n",
       "      <th>50%</th>\n",
       "      <td>15.500000</td>\n",
       "      <td>34991.500000</td>\n",
       "      <td>1967.000000</td>\n",
       "      <td>1.899000e+04</td>\n",
       "      <td>78.0</td>\n",
       "    </tr>\n",
       "    <tr>\n",
       "      <th>75%</th>\n",
       "      <td>22.750000</td>\n",
       "      <td>34999.750000</td>\n",
       "      <td>1988.000000</td>\n",
       "      <td>2.953500e+04</td>\n",
       "      <td>78.0</td>\n",
       "    </tr>\n",
       "    <tr>\n",
       "      <th>max</th>\n",
       "      <td>30.000000</td>\n",
       "      <td>35008.000000</td>\n",
       "      <td>2017.000000</td>\n",
       "      <td>2.399090e+06</td>\n",
       "      <td>78.0</td>\n",
       "    </tr>\n",
       "  </tbody>\n",
       "</table>\n",
       "</div>"
      ],
      "text/plain": [
       "       TransactionID      ClientID    BirthYear        Amount  Department\n",
       "count      30.000000     30.000000    28.000000  3.000000e+01        30.0\n",
       "mean       15.500000  34993.833333  1968.316327  1.010097e+05        78.0\n",
       "std         8.803408      8.132876    27.963867  4.342616e+05         0.0\n",
       "min         1.000000  34982.000000  1923.000000  1.230000e+03        78.0\n",
       "25%         8.250000  34987.250000  1944.714286  1.233000e+04        78.0\n",
       "50%        15.500000  34991.500000  1967.000000  1.899000e+04        78.0\n",
       "75%        22.750000  34999.750000  1988.000000  2.953500e+04        78.0\n",
       "max        30.000000  35008.000000  2017.000000  2.399090e+06        78.0"
      ]
     },
     "execution_count": 6,
     "metadata": {},
     "output_type": "execute_result"
    }
   ],
   "source": [
    "data.describe()"
   ]
  },
  {
   "cell_type": "code",
   "execution_count": 7,
   "id": "19dcbc2c",
   "metadata": {},
   "outputs": [
    {
     "data": {
      "text/plain": [
       "TransactionID      int64\n",
       "ClientID           int64\n",
       "BirthYear        float64\n",
       "Amount             int64\n",
       "Profession        object\n",
       "Department         int64\n",
       "Risk              object\n",
       "dtype: object"
      ]
     },
     "execution_count": 7,
     "metadata": {},
     "output_type": "execute_result"
    }
   ],
   "source": [
    "data.dtypes"
   ]
  },
  {
   "cell_type": "code",
   "execution_count": 8,
   "id": "8e4535d1",
   "metadata": {},
   "outputs": [
    {
     "data": {
      "text/plain": [
       "TransactionID    0\n",
       "ClientID         0\n",
       "BirthYear        2\n",
       "Amount           0\n",
       "Profession       2\n",
       "Department       0\n",
       "Risk             0\n",
       "dtype: int64"
      ]
     },
     "execution_count": 8,
     "metadata": {},
     "output_type": "execute_result"
    }
   ],
   "source": [
    "data.isna().sum()"
   ]
  },
  {
   "cell_type": "code",
   "execution_count": 15,
   "id": "dd534b4c",
   "metadata": {},
   "outputs": [],
   "source": [
    "data=data.dropna()"
   ]
  },
  {
   "cell_type": "code",
   "execution_count": 16,
   "id": "1bb18384",
   "metadata": {},
   "outputs": [
    {
     "data": {
      "text/plain": [
       "pandas.core.frame.DataFrame"
      ]
     },
     "execution_count": 16,
     "metadata": {},
     "output_type": "execute_result"
    }
   ],
   "source": [
    "type(data)"
   ]
  },
  {
   "cell_type": "code",
   "execution_count": 17,
   "id": "e79c5ff3",
   "metadata": {},
   "outputs": [
    {
     "data": {
      "text/plain": [
       "TransactionID    0\n",
       "ClientID         0\n",
       "BirthYear        0\n",
       "Amount           0\n",
       "Profession       0\n",
       "Department       0\n",
       "Risk             0\n",
       "dtype: int64"
      ]
     },
     "execution_count": 17,
     "metadata": {},
     "output_type": "execute_result"
    }
   ],
   "source": [
    "data.isna().sum()"
   ]
  },
  {
   "cell_type": "code",
   "execution_count": 21,
   "id": "4cf19e96",
   "metadata": {},
   "outputs": [
    {
     "data": {
      "text/html": [
       "<div>\n",
       "<style scoped>\n",
       "    .dataframe tbody tr th:only-of-type {\n",
       "        vertical-align: middle;\n",
       "    }\n",
       "\n",
       "    .dataframe tbody tr th {\n",
       "        vertical-align: top;\n",
       "    }\n",
       "\n",
       "    .dataframe thead th {\n",
       "        text-align: right;\n",
       "    }\n",
       "</style>\n",
       "<table border=\"1\" class=\"dataframe\">\n",
       "  <thead>\n",
       "    <tr style=\"text-align: right;\">\n",
       "      <th></th>\n",
       "      <th>TransactionID</th>\n",
       "      <th>ClientID</th>\n",
       "      <th>BirthYear</th>\n",
       "      <th>Amount</th>\n",
       "      <th>Profession</th>\n",
       "      <th>Department</th>\n",
       "      <th>Risk</th>\n",
       "    </tr>\n",
       "  </thead>\n",
       "  <tbody>\n",
       "    <tr>\n",
       "      <th>17</th>\n",
       "      <td>13</td>\n",
       "      <td>34994</td>\n",
       "      <td>2017.0</td>\n",
       "      <td>25650</td>\n",
       "      <td>Driver</td>\n",
       "      <td>78</td>\n",
       "      <td>Medium</td>\n",
       "    </tr>\n",
       "  </tbody>\n",
       "</table>\n",
       "</div>"
      ],
      "text/plain": [
       "    TransactionID  ClientID  BirthYear  Amount Profession  Department    Risk\n",
       "17             13     34994     2017.0   25650     Driver          78  Medium"
      ]
     },
     "execution_count": 21,
     "metadata": {},
     "output_type": "execute_result"
    }
   ],
   "source": [
    "data[data['BirthYear']==2017]"
   ]
  },
  {
   "cell_type": "code",
   "execution_count": 31,
   "id": "a6474ef5",
   "metadata": {},
   "outputs": [
    {
     "data": {
      "text/plain": [
       "2399090"
      ]
     },
     "execution_count": 31,
     "metadata": {},
     "output_type": "execute_result"
    }
   ],
   "source": [
    "data['Amount'].max()"
   ]
  },
  {
   "cell_type": "code",
   "execution_count": 32,
   "id": "ff72b146",
   "metadata": {},
   "outputs": [],
   "source": [
    "data=data.drop(index=19,axis=0)"
   ]
  },
  {
   "cell_type": "code",
   "execution_count": 23,
   "id": "3e01de56",
   "metadata": {},
   "outputs": [],
   "source": [
    "data=data.drop(index=17,axis=0)"
   ]
  },
  {
   "cell_type": "code",
   "execution_count": 24,
   "id": "3230b326",
   "metadata": {},
   "outputs": [
    {
     "data": {
      "text/plain": [
       "pandas.core.frame.DataFrame"
      ]
     },
     "execution_count": 24,
     "metadata": {},
     "output_type": "execute_result"
    }
   ],
   "source": [
    "type(data)"
   ]
  },
  {
   "cell_type": "code",
   "execution_count": 26,
   "id": "cca6e9be",
   "metadata": {},
   "outputs": [],
   "source": [
    "data.drop(columns=\"Department\", inplace=True)"
   ]
  },
  {
   "cell_type": "code",
   "execution_count": 28,
   "id": "55469d91",
   "metadata": {},
   "outputs": [],
   "source": [
    "data.drop(columns=\"TransactionID\", inplace=True)"
   ]
  },
  {
   "cell_type": "code",
   "execution_count": 33,
   "id": "a65fce04",
   "metadata": {},
   "outputs": [
    {
     "data": {
      "text/html": [
       "<div>\n",
       "<style scoped>\n",
       "    .dataframe tbody tr th:only-of-type {\n",
       "        vertical-align: middle;\n",
       "    }\n",
       "\n",
       "    .dataframe tbody tr th {\n",
       "        vertical-align: top;\n",
       "    }\n",
       "\n",
       "    .dataframe thead th {\n",
       "        text-align: right;\n",
       "    }\n",
       "</style>\n",
       "<table border=\"1\" class=\"dataframe\">\n",
       "  <thead>\n",
       "    <tr style=\"text-align: right;\">\n",
       "      <th></th>\n",
       "      <th>ClientID</th>\n",
       "      <th>BirthYear</th>\n",
       "      <th>Amount</th>\n",
       "      <th>Profession</th>\n",
       "      <th>Risk</th>\n",
       "    </tr>\n",
       "  </thead>\n",
       "  <tbody>\n",
       "    <tr>\n",
       "      <th>0</th>\n",
       "      <td>34982</td>\n",
       "      <td>2013.000000</td>\n",
       "      <td>12900</td>\n",
       "      <td>4</td>\n",
       "      <td>1</td>\n",
       "    </tr>\n",
       "    <tr>\n",
       "      <th>1</th>\n",
       "      <td>34983</td>\n",
       "      <td>2015.000000</td>\n",
       "      <td>1230</td>\n",
       "      <td>5</td>\n",
       "      <td>0</td>\n",
       "    </tr>\n",
       "    <tr>\n",
       "      <th>2</th>\n",
       "      <td>34984</td>\n",
       "      <td>1945.000000</td>\n",
       "      <td>3450</td>\n",
       "      <td>13</td>\n",
       "      <td>2</td>\n",
       "    </tr>\n",
       "    <tr>\n",
       "      <th>3</th>\n",
       "      <td>34985</td>\n",
       "      <td>1923.000000</td>\n",
       "      <td>5670</td>\n",
       "      <td>10</td>\n",
       "      <td>1</td>\n",
       "    </tr>\n",
       "    <tr>\n",
       "      <th>4</th>\n",
       "      <td>34986</td>\n",
       "      <td>1978.000000</td>\n",
       "      <td>7890</td>\n",
       "      <td>9</td>\n",
       "      <td>0</td>\n",
       "    </tr>\n",
       "    <tr>\n",
       "      <th>5</th>\n",
       "      <td>34987</td>\n",
       "      <td>1967.000000</td>\n",
       "      <td>10110</td>\n",
       "      <td>3</td>\n",
       "      <td>2</td>\n",
       "    </tr>\n",
       "    <tr>\n",
       "      <th>6</th>\n",
       "      <td>34987</td>\n",
       "      <td>1967.000000</td>\n",
       "      <td>30090</td>\n",
       "      <td>3</td>\n",
       "      <td>1</td>\n",
       "    </tr>\n",
       "    <tr>\n",
       "      <th>9</th>\n",
       "      <td>34988</td>\n",
       "      <td>1999.000000</td>\n",
       "      <td>25650</td>\n",
       "      <td>3</td>\n",
       "      <td>1</td>\n",
       "    </tr>\n",
       "    <tr>\n",
       "      <th>10</th>\n",
       "      <td>34989</td>\n",
       "      <td>1958.000000</td>\n",
       "      <td>14550</td>\n",
       "      <td>1</td>\n",
       "      <td>0</td>\n",
       "    </tr>\n",
       "    <tr>\n",
       "      <th>11</th>\n",
       "      <td>34989</td>\n",
       "      <td>1967.000000</td>\n",
       "      <td>27870</td>\n",
       "      <td>1</td>\n",
       "      <td>2</td>\n",
       "    </tr>\n",
       "    <tr>\n",
       "      <th>12</th>\n",
       "      <td>34990</td>\n",
       "      <td>1953.285714</td>\n",
       "      <td>16770</td>\n",
       "      <td>3</td>\n",
       "      <td>2</td>\n",
       "    </tr>\n",
       "    <tr>\n",
       "      <th>13</th>\n",
       "      <td>34991</td>\n",
       "      <td>1988.000000</td>\n",
       "      <td>18990</td>\n",
       "      <td>0</td>\n",
       "      <td>1</td>\n",
       "    </tr>\n",
       "    <tr>\n",
       "      <th>14</th>\n",
       "      <td>34991</td>\n",
       "      <td>1988.000000</td>\n",
       "      <td>55250</td>\n",
       "      <td>0</td>\n",
       "      <td>0</td>\n",
       "    </tr>\n",
       "    <tr>\n",
       "      <th>15</th>\n",
       "      <td>34992</td>\n",
       "      <td>1943.857143</td>\n",
       "      <td>21210</td>\n",
       "      <td>12</td>\n",
       "      <td>2</td>\n",
       "    </tr>\n",
       "    <tr>\n",
       "      <th>16</th>\n",
       "      <td>34993</td>\n",
       "      <td>1939.142857</td>\n",
       "      <td>23430</td>\n",
       "      <td>11</td>\n",
       "      <td>1</td>\n",
       "    </tr>\n",
       "    <tr>\n",
       "      <th>18</th>\n",
       "      <td>34995</td>\n",
       "      <td>1999.000000</td>\n",
       "      <td>27870</td>\n",
       "      <td>2</td>\n",
       "      <td>1</td>\n",
       "    </tr>\n",
       "    <tr>\n",
       "      <th>20</th>\n",
       "      <td>34998</td>\n",
       "      <td>1978.000000</td>\n",
       "      <td>7890</td>\n",
       "      <td>8</td>\n",
       "      <td>2</td>\n",
       "    </tr>\n",
       "    <tr>\n",
       "      <th>21</th>\n",
       "      <td>34999</td>\n",
       "      <td>1988.000000</td>\n",
       "      <td>10110</td>\n",
       "      <td>8</td>\n",
       "      <td>1</td>\n",
       "    </tr>\n",
       "    <tr>\n",
       "      <th>22</th>\n",
       "      <td>35000</td>\n",
       "      <td>1948.571429</td>\n",
       "      <td>12330</td>\n",
       "      <td>5</td>\n",
       "      <td>0</td>\n",
       "    </tr>\n",
       "    <tr>\n",
       "      <th>23</th>\n",
       "      <td>35001</td>\n",
       "      <td>1943.857143</td>\n",
       "      <td>14550</td>\n",
       "      <td>13</td>\n",
       "      <td>2</td>\n",
       "    </tr>\n",
       "    <tr>\n",
       "      <th>24</th>\n",
       "      <td>35002</td>\n",
       "      <td>1939.142857</td>\n",
       "      <td>16770</td>\n",
       "      <td>10</td>\n",
       "      <td>1</td>\n",
       "    </tr>\n",
       "    <tr>\n",
       "      <th>25</th>\n",
       "      <td>35006</td>\n",
       "      <td>1923.000000</td>\n",
       "      <td>33050</td>\n",
       "      <td>1</td>\n",
       "      <td>0</td>\n",
       "    </tr>\n",
       "    <tr>\n",
       "      <th>26</th>\n",
       "      <td>35007</td>\n",
       "      <td>1999.000000</td>\n",
       "      <td>37490</td>\n",
       "      <td>8</td>\n",
       "      <td>2</td>\n",
       "    </tr>\n",
       "    <tr>\n",
       "      <th>27</th>\n",
       "      <td>35008</td>\n",
       "      <td>1967.000000</td>\n",
       "      <td>41930</td>\n",
       "      <td>6</td>\n",
       "      <td>1</td>\n",
       "    </tr>\n",
       "  </tbody>\n",
       "</table>\n",
       "</div>"
      ],
      "text/plain": [
       "    ClientID    BirthYear  Amount  Profession  Risk\n",
       "0      34982  2013.000000   12900           4     1\n",
       "1      34983  2015.000000    1230           5     0\n",
       "2      34984  1945.000000    3450          13     2\n",
       "3      34985  1923.000000    5670          10     1\n",
       "4      34986  1978.000000    7890           9     0\n",
       "5      34987  1967.000000   10110           3     2\n",
       "6      34987  1967.000000   30090           3     1\n",
       "9      34988  1999.000000   25650           3     1\n",
       "10     34989  1958.000000   14550           1     0\n",
       "11     34989  1967.000000   27870           1     2\n",
       "12     34990  1953.285714   16770           3     2\n",
       "13     34991  1988.000000   18990           0     1\n",
       "14     34991  1988.000000   55250           0     0\n",
       "15     34992  1943.857143   21210          12     2\n",
       "16     34993  1939.142857   23430          11     1\n",
       "18     34995  1999.000000   27870           2     1\n",
       "20     34998  1978.000000    7890           8     2\n",
       "21     34999  1988.000000   10110           8     1\n",
       "22     35000  1948.571429   12330           5     0\n",
       "23     35001  1943.857143   14550          13     2\n",
       "24     35002  1939.142857   16770          10     1\n",
       "25     35006  1923.000000   33050           1     0\n",
       "26     35007  1999.000000   37490           8     2\n",
       "27     35008  1967.000000   41930           6     1"
      ]
     },
     "execution_count": 33,
     "metadata": {},
     "output_type": "execute_result"
    }
   ],
   "source": [
    "data"
   ]
  },
  {
   "cell_type": "code",
   "execution_count": 30,
   "id": "e5514c72",
   "metadata": {},
   "outputs": [],
   "source": [
    "from sklearn.preprocessing import LabelEncoder\n",
    "encoder = LabelEncoder()\n",
    "data['Profession']=encoder.fit_transform(data['Profession'])\n",
    "data['Risk']=encoder.fit_transform(data['Risk'])\n"
   ]
  },
  {
   "cell_type": "code",
   "execution_count": null,
   "id": "782daefb",
   "metadata": {},
   "outputs": [],
   "source": []
  }
 ],
 "metadata": {
  "kernelspec": {
   "display_name": "Python 3",
   "language": "python",
   "name": "python3"
  },
  "language_info": {
   "codemirror_mode": {
    "name": "ipython",
    "version": 3
   },
   "file_extension": ".py",
   "mimetype": "text/x-python",
   "name": "python",
   "nbconvert_exporter": "python",
   "pygments_lexer": "ipython3",
   "version": "3.8.8"
  }
 },
 "nbformat": 4,
 "nbformat_minor": 5
}
