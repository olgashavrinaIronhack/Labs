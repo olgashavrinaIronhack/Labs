{
 "cells": [
  {
   "cell_type": "code",
   "execution_count": 23,
   "id": "1f00e938",
   "metadata": {},
   "outputs": [],
   "source": [
    "sheeps=[True,  True,  True,  False, True,  True,  True,  True, True,  False, True,  False, True,  False, False, True, True,  True,  True,  True , False, False, True, True]\n",
    "def count_sheeps():\n",
    "    \n",
    "    z=sheeps.count(True)\n",
    "    print(z)\n",
    "    "
   ]
  },
  {
   "cell_type": "code",
   "execution_count": 25,
   "id": "79c499ce",
   "metadata": {},
   "outputs": [
    {
     "name": "stdout",
     "output_type": "stream",
     "text": [
      "17\n"
     ]
    }
   ],
   "source": [
    "count_sheeps()"
   ]
  },
  {
   "cell_type": "code",
   "execution_count": 26,
   "id": "05dbcbc0",
   "metadata": {},
   "outputs": [
    {
     "name": "stdout",
     "output_type": "stream",
     "text": [
      "[1, 3, 6, 9, 11]\n"
     ]
    }
   ],
   "source": [
    "array=[1,2,3,5,6,8,9,10,11]\n",
    "z=array[::2]\n",
    "array=z\n",
    "print(z)"
   ]
  },
  {
   "cell_type": "code",
   "execution_count": 43,
   "id": "9114dee8",
   "metadata": {},
   "outputs": [
    {
     "name": "stdout",
     "output_type": "stream",
     "text": [
      "Please input a number10000\n",
      "['0', '0', '0', '0', '1']\n"
     ]
    }
   ],
   "source": [
    "x=input(\"Please input a number\")\n",
    "y=list(x)\n",
    "z=y[::-1]\n",
    "print(z)"
   ]
  },
  {
   "cell_type": "code",
   "execution_count": 75,
   "id": "8458a43d",
   "metadata": {},
   "outputs": [],
   "source": [
    "def square_input(x):\n",
    "    y=list(str(x))\n",
    "    final=[]\n",
    "    for i in y:\n",
    "        z=int(i)**2\n",
    "        z=str(z)\n",
    "        final.append(z)\n",
    "    final1=''.join(final)\n",
    "    print(final1)\n",
    "    \n"
   ]
  },
  {
   "cell_type": "code",
   "execution_count": 76,
   "id": "3b635a3e",
   "metadata": {},
   "outputs": [
    {
     "name": "stdout",
     "output_type": "stream",
     "text": [
      "1364964\n"
     ]
    }
   ],
   "source": [
    "square_input(1678)"
   ]
  },
  {
   "cell_type": "code",
   "execution_count": 147,
   "id": "e9bedb69",
   "metadata": {},
   "outputs": [],
   "source": [
    "integers_list = [-18, -31, 81, -19, 111, -888]\n",
    "compare_list=[1,8,9,2,3]\n",
    "\n",
    "def count_spec_digits(integers_list, compare_list):\n",
    "    x=''.join(str(elem) for elem in integers_list)\n",
    "    z=x.replace(\"-\",\"\")\n",
    "    final=list(z)\n",
    "    final_1=[int(i) for i in final]\n",
    "    freq={}\n",
    "    for i in compare_list:\n",
    "        freq[i]=final_1.count(i)\n",
    "    output=list(freq.items())\n",
    "    print(output)"
   ]
  },
  {
   "cell_type": "code",
   "execution_count": 148,
   "id": "0d0976d0",
   "metadata": {},
   "outputs": [
    {
     "name": "stdout",
     "output_type": "stream",
     "text": [
      "[(1, 7), (8, 5), (9, 1), (2, 0), (3, 1)]\n"
     ]
    }
   ],
   "source": [
    "count_spec_digits(integers_list, compare_list)"
   ]
  },
  {
   "cell_type": "code",
   "execution_count": null,
   "id": "21a68b2a",
   "metadata": {},
   "outputs": [],
   "source": []
  }
 ],
 "metadata": {
  "kernelspec": {
   "display_name": "Python 3",
   "language": "python",
   "name": "python3"
  },
  "language_info": {
   "codemirror_mode": {
    "name": "ipython",
    "version": 3
   },
   "file_extension": ".py",
   "mimetype": "text/x-python",
   "name": "python",
   "nbconvert_exporter": "python",
   "pygments_lexer": "ipython3",
   "version": "3.8.8"
  }
 },
 "nbformat": 4,
 "nbformat_minor": 5
}
