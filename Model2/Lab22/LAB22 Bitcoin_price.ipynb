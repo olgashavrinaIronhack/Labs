{
 "cells": [
  {
   "cell_type": "code",
   "execution_count": 7,
   "id": "b64571a0",
   "metadata": {},
   "outputs": [],
   "source": [
    "import yfinance as yf\n",
    "import pandas as pd\n",
    "import numpy as np\n",
    "import matplotlib.pyplot as plt \n",
    "import seaborn as sns"
   ]
  },
  {
   "cell_type": "code",
   "execution_count": 2,
   "id": "5e9a18f6",
   "metadata": {},
   "outputs": [],
   "source": [
    "import warnings\n",
    "warnings.filterwarnings(\"ignore\")\n"
   ]
  },
  {
   "cell_type": "code",
   "execution_count": 3,
   "id": "24d3ca9c",
   "metadata": {},
   "outputs": [
    {
     "name": "stdout",
     "output_type": "stream",
     "text": [
      "[*********************100%***********************]  1 of 1 completed\n"
     ]
    }
   ],
   "source": [
    "data = yf.download(\"BTC-USD\")[['Close']]\n"
   ]
  },
  {
   "cell_type": "code",
   "execution_count": 4,
   "id": "bbaa566b",
   "metadata": {},
   "outputs": [
    {
     "data": {
      "text/html": [
       "<div>\n",
       "<style scoped>\n",
       "    .dataframe tbody tr th:only-of-type {\n",
       "        vertical-align: middle;\n",
       "    }\n",
       "\n",
       "    .dataframe tbody tr th {\n",
       "        vertical-align: top;\n",
       "    }\n",
       "\n",
       "    .dataframe thead th {\n",
       "        text-align: right;\n",
       "    }\n",
       "</style>\n",
       "<table border=\"1\" class=\"dataframe\">\n",
       "  <thead>\n",
       "    <tr style=\"text-align: right;\">\n",
       "      <th></th>\n",
       "      <th>Close</th>\n",
       "    </tr>\n",
       "    <tr>\n",
       "      <th>Date</th>\n",
       "      <th></th>\n",
       "    </tr>\n",
       "  </thead>\n",
       "  <tbody>\n",
       "    <tr>\n",
       "      <th>2014-09-17</th>\n",
       "      <td>457.33</td>\n",
       "    </tr>\n",
       "    <tr>\n",
       "      <th>2014-09-18</th>\n",
       "      <td>424.44</td>\n",
       "    </tr>\n",
       "    <tr>\n",
       "      <th>2014-09-19</th>\n",
       "      <td>394.80</td>\n",
       "    </tr>\n",
       "    <tr>\n",
       "      <th>2014-09-20</th>\n",
       "      <td>408.90</td>\n",
       "    </tr>\n",
       "    <tr>\n",
       "      <th>2014-09-21</th>\n",
       "      <td>398.82</td>\n",
       "    </tr>\n",
       "  </tbody>\n",
       "</table>\n",
       "</div>"
      ],
      "text/plain": [
       "             Close\n",
       "Date              \n",
       "2014-09-17  457.33\n",
       "2014-09-18  424.44\n",
       "2014-09-19  394.80\n",
       "2014-09-20  408.90\n",
       "2014-09-21  398.82"
      ]
     },
     "execution_count": 4,
     "metadata": {},
     "output_type": "execute_result"
    }
   ],
   "source": [
    "data.index = pd.to_datetime(data.index)\n",
    "data.head().round(2)"
   ]
  },
  {
   "cell_type": "code",
   "execution_count": 5,
   "id": "097dc177",
   "metadata": {},
   "outputs": [
    {
     "data": {
      "text/plain": [
       "(2697, 1)"
      ]
     },
     "execution_count": 5,
     "metadata": {},
     "output_type": "execute_result"
    }
   ],
   "source": [
    "data.shape"
   ]
  },
  {
   "cell_type": "code",
   "execution_count": 6,
   "id": "2c843adc",
   "metadata": {},
   "outputs": [
    {
     "data": {
      "text/html": [
       "<div>\n",
       "<style scoped>\n",
       "    .dataframe tbody tr th:only-of-type {\n",
       "        vertical-align: middle;\n",
       "    }\n",
       "\n",
       "    .dataframe tbody tr th {\n",
       "        vertical-align: top;\n",
       "    }\n",
       "\n",
       "    .dataframe thead th {\n",
       "        text-align: right;\n",
       "    }\n",
       "</style>\n",
       "<table border=\"1\" class=\"dataframe\">\n",
       "  <thead>\n",
       "    <tr style=\"text-align: right;\">\n",
       "      <th></th>\n",
       "      <th>Close</th>\n",
       "    </tr>\n",
       "    <tr>\n",
       "      <th>Date</th>\n",
       "      <th></th>\n",
       "    </tr>\n",
       "  </thead>\n",
       "  <tbody>\n",
       "    <tr>\n",
       "      <th>2022-01-30</th>\n",
       "      <td>37917.601562</td>\n",
       "    </tr>\n",
       "    <tr>\n",
       "      <th>2022-01-31</th>\n",
       "      <td>38483.125000</td>\n",
       "    </tr>\n",
       "    <tr>\n",
       "      <th>2022-02-01</th>\n",
       "      <td>38743.273438</td>\n",
       "    </tr>\n",
       "    <tr>\n",
       "      <th>2022-02-02</th>\n",
       "      <td>36952.984375</td>\n",
       "    </tr>\n",
       "    <tr>\n",
       "      <th>2022-02-03</th>\n",
       "      <td>36679.140625</td>\n",
       "    </tr>\n",
       "  </tbody>\n",
       "</table>\n",
       "</div>"
      ],
      "text/plain": [
       "                   Close\n",
       "Date                    \n",
       "2022-01-30  37917.601562\n",
       "2022-01-31  38483.125000\n",
       "2022-02-01  38743.273438\n",
       "2022-02-02  36952.984375\n",
       "2022-02-03  36679.140625"
      ]
     },
     "execution_count": 6,
     "metadata": {},
     "output_type": "execute_result"
    }
   ],
   "source": [
    "data.tail()"
   ]
  },
  {
   "cell_type": "code",
   "execution_count": 8,
   "id": "504cd960",
   "metadata": {},
   "outputs": [
    {
     "data": {
      "text/plain": [
       "Text(0.5, 1.0, 'Bitcoin price')"
      ]
     },
     "execution_count": 8,
     "metadata": {},
     "output_type": "execute_result"
    },
    {
     "data": {
      "image/png": "[encoded data removed]",
      "text/plain": [
       "<Figure size 720x360 with 1 Axes>"
      ]
     },
     "metadata": {
      "needs_background": "light"
     },
     "output_type": "display_data"
    }
   ],
   "source": [
    "plt.figure(figsize=(10,5))\n",
    "sns.lineplot(data.index, data.Close)\n",
    "plt.title('Bitcoin price')"
   ]
  },
  {
   "cell_type": "code",
   "execution_count": 9,
   "id": "56fb30b1",
   "metadata": {},
   "outputs": [
    {
     "name": "stdout",
     "output_type": "stream",
     "text": [
      "ADF Test Statistic: -1.33\n",
      "5% Critical Value: -2.86\n",
      "p-value: 0.61\n"
     ]
    }
   ],
   "source": [
    "from statsmodels.tsa.stattools import adfuller\n",
    "\n",
    "result = adfuller(data.Close)\n",
    "print('ADF Test Statistic: %.2f' % result[0])\n",
    "print('5%% Critical Value: %.2f' % result[4]['5%'])\n",
    "print('p-value: %.2f' % result[1])"
   ]
  },
  {
   "cell_type": "code",
   "execution_count": 10,
   "id": "52718dd5",
   "metadata": {},
   "outputs": [
    {
     "data": {
      "image/png": "[encoded data removed]",
      "text/plain": [
       "<Figure size 432x288 with 1 Axes>"
      ]
     },
     "metadata": {
      "needs_background": "light"
     },
     "output_type": "display_data"
    }
   ],
   "source": [
    "from statsmodels.graphics.tsaplots import plot_acf , plot_pacf\n",
    "plot_acf(data.Close)\n",
    "plt.show()"
   ]
  },
  {
   "cell_type": "code",
   "execution_count": 11,
   "id": "e8d3e88d",
   "metadata": {},
   "outputs": [
    {
     "data": {
      "image/png": "[encoded data removed]",
      "text/plain": [
       "<Figure size 432x288 with 1 Axes>"
      ]
     },
     "metadata": {
      "needs_background": "light"
     },
     "output_type": "display_data"
    }
   ],
   "source": [
    "plot_pacf(data.Close)\n",
    "plt.show()"
   ]
  },
  {
   "cell_type": "code",
   "execution_count": 13,
   "id": "aba2593c",
   "metadata": {},
   "outputs": [
    {
     "data": {
      "text/html": [
       "<div>\n",
       "<style scoped>\n",
       "    .dataframe tbody tr th:only-of-type {\n",
       "        vertical-align: middle;\n",
       "    }\n",
       "\n",
       "    .dataframe tbody tr th {\n",
       "        vertical-align: top;\n",
       "    }\n",
       "\n",
       "    .dataframe thead th {\n",
       "        text-align: right;\n",
       "    }\n",
       "</style>\n",
       "<table border=\"1\" class=\"dataframe\">\n",
       "  <thead>\n",
       "    <tr style=\"text-align: right;\">\n",
       "      <th></th>\n",
       "      <th>Close</th>\n",
       "      <th>differ</th>\n",
       "    </tr>\n",
       "    <tr>\n",
       "      <th>Date</th>\n",
       "      <th></th>\n",
       "      <th></th>\n",
       "    </tr>\n",
       "  </thead>\n",
       "  <tbody>\n",
       "    <tr>\n",
       "      <th>2014-09-17</th>\n",
       "      <td>457.334015</td>\n",
       "      <td>NaN</td>\n",
       "    </tr>\n",
       "    <tr>\n",
       "      <th>2014-09-18</th>\n",
       "      <td>424.440002</td>\n",
       "      <td>-32.894012</td>\n",
       "    </tr>\n",
       "    <tr>\n",
       "      <th>2014-09-19</th>\n",
       "      <td>394.795990</td>\n",
       "      <td>-29.644012</td>\n",
       "    </tr>\n",
       "    <tr>\n",
       "      <th>2014-09-20</th>\n",
       "      <td>408.903992</td>\n",
       "      <td>14.108002</td>\n",
       "    </tr>\n",
       "    <tr>\n",
       "      <th>2014-09-21</th>\n",
       "      <td>398.821014</td>\n",
       "      <td>-10.082977</td>\n",
       "    </tr>\n",
       "  </tbody>\n",
       "</table>\n",
       "</div>"
      ],
      "text/plain": [
       "                 Close     differ\n",
       "Date                             \n",
       "2014-09-17  457.334015        NaN\n",
       "2014-09-18  424.440002 -32.894012\n",
       "2014-09-19  394.795990 -29.644012\n",
       "2014-09-20  408.903992  14.108002\n",
       "2014-09-21  398.821014 -10.082977"
      ]
     },
     "execution_count": 13,
     "metadata": {},
     "output_type": "execute_result"
    }
   ],
   "source": [
    "data['differ'] = data['Close'].diff()\n",
    "data.head()\n"
   ]
  },
  {
   "cell_type": "code",
   "execution_count": 14,
   "id": "585b19cc",
   "metadata": {},
   "outputs": [
    {
     "data": {
      "text/plain": [
       "Text(0.5, 1.0, 'Bitcoin price')"
      ]
     },
     "execution_count": 14,
     "metadata": {},
     "output_type": "execute_result"
    },
    {
     "data": {
      "image/png": "[encoded data removed]",
      "text/plain": [
       "<Figure size 720x360 with 1 Axes>"
      ]
     },
     "metadata": {
      "needs_background": "light"
     },
     "output_type": "display_data"
    }
   ],
   "source": [
    "plt.figure(figsize=(10,5))\n",
    "sns.lineplot(data.index, data.differ)\n",
    "plt.title('Bitcoin price')"
   ]
  },
  {
   "cell_type": "code",
   "execution_count": 15,
   "id": "3841a805",
   "metadata": {},
   "outputs": [
    {
     "name": "stdout",
     "output_type": "stream",
     "text": [
      "ADF Test Statistic: -8.40\n",
      "5% Critical Value: -2.86\n",
      "p-value: 0.00\n"
     ]
    }
   ],
   "source": [
    "result = adfuller(data.differ.dropna())\n",
    "print('ADF Test Statistic: %.2f' % result[0])\n",
    "print('5%% Critical Value: %.2f' % result[4]['5%'])\n",
    "print('p-value: %.2f' % result[1])"
   ]
  },
  {
   "cell_type": "code",
   "execution_count": 16,
   "id": "ae75f5c3",
   "metadata": {},
   "outputs": [
    {
     "name": "stderr",
     "output_type": "stream",
     "text": [
      "C:\\Users\\oshav\\anaconda3\\lib\\site-packages\\statsmodels\\tsa\\base\\tsa_model.py:524: ValueWarning: No frequency information was provided, so inferred frequency D will be used.\n",
      "  warnings.warn('No frequency information was'\n"
     ]
    },
    {
     "name": "stdout",
     "output_type": "stream",
     "text": [
      "                              ARMA Model Results                              \n",
      "==============================================================================\n",
      "Dep. Variable:                 differ   No. Observations:                 2696\n",
      "Model:                     ARMA(1, 0)   Log Likelihood              -21728.788\n",
      "Method:                       css-mle   S.D. of innovations            765.631\n",
      "Date:                Thu, 03 Feb 2022   AIC                          43463.576\n",
      "Time:                        14:51:59   BIC                          43481.274\n",
      "Sample:                    09-18-2014   HQIC                         43469.977\n",
      "                         - 02-03-2022                                         \n",
      "================================================================================\n",
      "                   coef    std err          z      P>|z|      [0.025      0.975]\n",
      "--------------------------------------------------------------------------------\n",
      "const           13.4354     14.371      0.935      0.350     -14.731      41.602\n",
      "ar.L1.differ    -0.0261      0.019     -1.354      0.176      -0.064       0.012\n",
      "                                    Roots                                    \n",
      "=============================================================================\n",
      "                  Real          Imaginary           Modulus         Frequency\n",
      "-----------------------------------------------------------------------------\n",
      "AR.1          -38.3701           +0.0000j           38.3701            0.5000\n",
      "-----------------------------------------------------------------------------\n"
     ]
    }
   ],
   "source": [
    "from statsmodels.tsa.arima_model import ARMA\n",
    "mod_ar1 = ARMA(data.differ.dropna(), order=(1, 0))\n",
    "res_ar1 = mod_ar1.fit()\n",
    "print(res_ar1.summary())"
   ]
  },
  {
   "cell_type": "code",
   "execution_count": 49,
   "id": "17dd5401",
   "metadata": {},
   "outputs": [],
   "source": [
    "from statsmodels.tsa.arima_model import ARIMA\n",
    "\n",
    "p=range(5)\n",
    "q=range(5)\n",
    "d=range(5)\n",
    "order_list = [(x,y,z) for x in p for y in q for z in d] "
   ]
  },
  {
   "cell_type": "code",
   "execution_count": 18,
   "id": "4afd25d2",
   "metadata": {},
   "outputs": [
    {
     "name": "stderr",
     "output_type": "stream",
     "text": [
      "C:\\Users\\oshav\\anaconda3\\lib\\site-packages\\statsmodels\\tsa\\base\\tsa_model.py:524: ValueWarning: No frequency information was provided, so inferred frequency D will be used.\n",
      "  warnings.warn('No frequency information was'\n"
     ]
    },
    {
     "name": "stdout",
     "output_type": "stream",
     "text": [
      "                              ARMA Model Results                              \n",
      "==============================================================================\n",
      "Dep. Variable:                 differ   No. Observations:                 2696\n",
      "Model:                    ARMA(10, 0)   Log Likelihood              -21708.082\n",
      "Method:                       css-mle   S.D. of innovations            759.757\n",
      "Date:                Thu, 03 Feb 2022   AIC                          43440.163\n",
      "Time:                        14:52:33   BIC                          43510.958\n",
      "Sample:                    09-18-2014   HQIC                         43465.767\n",
      "                         - 02-03-2022                                         \n",
      "=================================================================================\n",
      "                    coef    std err          z      P>|z|      [0.025      0.975]\n",
      "---------------------------------------------------------------------------------\n",
      "const            13.4354     16.454      0.817      0.414     -18.814      45.685\n",
      "ar.L1.differ     -0.0303      0.019     -1.576      0.115      -0.068       0.007\n",
      "ar.L2.differ      0.0099      0.019      0.517      0.605      -0.028       0.048\n",
      "ar.L3.differ      0.0139      0.019      0.726      0.468      -0.024       0.052\n",
      "ar.L4.differ      0.0484      0.019      2.525      0.012       0.011       0.086\n",
      "ar.L5.differ      0.0211      0.019      1.102      0.271      -0.016       0.059\n",
      "ar.L6.differ      0.0166      0.019      0.867      0.386      -0.021       0.054\n",
      "ar.L7.differ     -0.0578      0.019     -3.015      0.003      -0.095      -0.020\n",
      "ar.L8.differ     -0.0344      0.019     -1.792      0.073      -0.072       0.003\n",
      "ar.L9.differ      0.0653      0.019      3.401      0.001       0.028       0.103\n",
      "ar.L10.differ     0.0582      0.019      3.030      0.002       0.021       0.096\n",
      "                                    Roots                                     \n",
      "==============================================================================\n",
      "                   Real          Imaginary           Modulus         Frequency\n",
      "------------------------------------------------------------------------------\n",
      "AR.1             1.2802           -0.0000j            1.2802           -0.0000\n",
      "AR.2             1.0607           -0.7337j            1.2897           -0.0963\n",
      "AR.3             1.0607           +0.7337j            1.2897            0.0963\n",
      "AR.4             0.3085           -1.1776j            1.2174           -0.2092\n",
      "AR.5             0.3085           +1.1776j            1.2174            0.2092\n",
      "AR.6            -0.5497           -1.1763j            1.2984           -0.3196\n",
      "AR.7            -0.5497           +1.1763j            1.2984            0.3196\n",
      "AR.8            -1.2873           -0.7387j            1.4842           -0.4171\n",
      "AR.9            -1.2873           +0.7387j            1.4842            0.4171\n",
      "AR.10           -1.4655           -0.0000j            1.4655           -0.5000\n",
      "------------------------------------------------------------------------------\n"
     ]
    }
   ],
   "source": [
    "mod_ar2 = ARMA(data.differ.dropna(), order=(10, 0))\n",
    "res_ar2 = mod_ar2.fit()\n",
    "print(res_ar2.summary())"
   ]
  },
  {
   "cell_type": "code",
   "execution_count": 19,
   "id": "0da320f9",
   "metadata": {},
   "outputs": [
    {
     "name": "stdout",
     "output_type": "stream",
     "text": [
      "                              ARMA Model Results                              \n",
      "==============================================================================\n",
      "Dep. Variable:                 differ   No. Observations:                 2696\n",
      "Model:                     ARMA(0, 1)   Log Likelihood              -21728.795\n",
      "Method:                       css-mle   S.D. of innovations            765.633\n",
      "Date:                Thu, 03 Feb 2022   AIC                          43463.590\n",
      "Time:                        14:52:36   BIC                          43481.289\n",
      "Sample:                    09-18-2014   HQIC                         43469.991\n",
      "                         - 02-03-2022                                         \n",
      "================================================================================\n",
      "                   coef    std err          z      P>|z|      [0.025      0.975]\n",
      "--------------------------------------------------------------------------------\n",
      "const           13.4354     14.365      0.935      0.350     -14.719      41.589\n",
      "ma.L1.differ    -0.0259      0.019     -1.349      0.177      -0.063       0.012\n",
      "                                    Roots                                    \n",
      "=============================================================================\n",
      "                  Real          Imaginary           Modulus         Frequency\n",
      "-----------------------------------------------------------------------------\n",
      "MA.1           38.6838           +0.0000j           38.6838            0.0000\n",
      "-----------------------------------------------------------------------------\n"
     ]
    },
    {
     "name": "stderr",
     "output_type": "stream",
     "text": [
      "C:\\Users\\oshav\\anaconda3\\lib\\site-packages\\statsmodels\\tsa\\base\\tsa_model.py:524: ValueWarning: No frequency information was provided, so inferred frequency D will be used.\n",
      "  warnings.warn('No frequency information was'\n"
     ]
    }
   ],
   "source": [
    "mod_ma1 = ARMA(data.differ.dropna(), order=(0, 1))\n",
    "res_ma1 = mod_ma1.fit()\n",
    "print(res_ma1.summary())"
   ]
  },
  {
   "cell_type": "code",
   "execution_count": 20,
   "id": "f7a67835",
   "metadata": {},
   "outputs": [
    {
     "name": "stderr",
     "output_type": "stream",
     "text": [
      "C:\\Users\\oshav\\anaconda3\\lib\\site-packages\\statsmodels\\tsa\\base\\tsa_model.py:524: ValueWarning: No frequency information was provided, so inferred frequency D will be used.\n",
      "  warnings.warn('No frequency information was'\n"
     ]
    },
    {
     "name": "stdout",
     "output_type": "stream",
     "text": [
      "                              ARMA Model Results                              \n",
      "==============================================================================\n",
      "Dep. Variable:                 differ   No. Observations:                 2696\n",
      "Model:                    ARMA(0, 10)   Log Likelihood              -21706.077\n",
      "Method:                       css-mle   S.D. of innovations            759.187\n",
      "Date:                Thu, 03 Feb 2022   AIC                          43436.154\n",
      "Time:                        14:52:50   BIC                          43506.949\n",
      "Sample:                    09-18-2014   HQIC                         43461.758\n",
      "                         - 02-03-2022                                         \n",
      "=================================================================================\n",
      "                    coef    std err          z      P>|z|      [0.025      0.975]\n",
      "---------------------------------------------------------------------------------\n",
      "const            13.4354     16.588      0.810      0.418     -19.076      45.947\n",
      "ma.L1.differ     -0.0292      0.019     -1.522      0.128      -0.067       0.008\n",
      "ma.L2.differ      0.0194      0.019      1.002      0.316      -0.019       0.057\n",
      "ma.L3.differ      0.0143      0.019      0.737      0.461      -0.024       0.052\n",
      "ma.L4.differ      0.0328      0.020      1.675      0.094      -0.006       0.071\n",
      "ma.L5.differ      0.0228      0.020      1.168      0.243      -0.015       0.061\n",
      "ma.L6.differ      0.0403      0.021      1.964      0.050    8.12e-05       0.080\n",
      "ma.L7.differ     -0.0635      0.020     -3.220      0.001      -0.102      -0.025\n",
      "ma.L8.differ     -0.0381      0.020     -1.859      0.063      -0.078       0.002\n",
      "ma.L9.differ      0.0794      0.021      3.851      0.000       0.039       0.120\n",
      "ma.L10.differ     0.0567      0.018      3.106      0.002       0.021       0.092\n",
      "                                    Roots                                     \n",
      "==============================================================================\n",
      "                   Real          Imaginary           Modulus         Frequency\n",
      "------------------------------------------------------------------------------\n",
      "MA.1             1.2177           -0.4141j            1.2862           -0.0522\n",
      "MA.2             1.2177           +0.4141j            1.2862            0.0522\n",
      "MA.3             0.7230           -0.9835j            1.2207           -0.1491\n",
      "MA.4             0.7230           +0.9835j            1.2207            0.1491\n",
      "MA.5            -0.1147           -1.2171j            1.2225           -0.2649\n",
      "MA.6            -0.1147           +1.2171j            1.2225            0.2649\n",
      "MA.7            -0.9908           -0.9518j            1.3739           -0.3782\n",
      "MA.8            -0.9908           +0.9518j            1.3739            0.3782\n",
      "MA.9            -1.5355           -0.4241j            1.5930           -0.4571\n",
      "MA.10           -1.5355           +0.4241j            1.5930            0.4571\n",
      "------------------------------------------------------------------------------\n"
     ]
    }
   ],
   "source": [
    "mod_ma2 = ARMA(data.differ.dropna(), order=(0, 10))\n",
    "res_ma2 = mod_ma2.fit()\n",
    "print(res_ma2.summary())"
   ]
  },
  {
   "cell_type": "code",
   "execution_count": 21,
   "id": "20950c0e",
   "metadata": {},
   "outputs": [
    {
     "name": "stdout",
     "output_type": "stream",
     "text": [
      "2157\n",
      "540\n"
     ]
    }
   ],
   "source": [
    "train = data['differ'][0:int(len(data.differ)*0.8)]\n",
    "test = data['differ'][int(len(data.differ)*0.8):]\n",
    "print(len(train))\n",
    "print(len(test))"
   ]
  },
  {
   "cell_type": "code",
   "execution_count": 22,
   "id": "8d3195d7",
   "metadata": {},
   "outputs": [
    {
     "data": {
      "text/plain": [
       "Date\n",
       "2020-08-13    199.203125\n",
       "2020-08-14    -15.266602\n",
       "2020-08-15     96.827148\n",
       "2020-08-16     27.105469\n",
       "2020-08-17    361.598633\n",
       "Name: differ, dtype: float64"
      ]
     },
     "execution_count": 22,
     "metadata": {},
     "output_type": "execute_result"
    }
   ],
   "source": [
    "test.head()"
   ]
  },
  {
   "cell_type": "code",
   "execution_count": 23,
   "id": "62593a19",
   "metadata": {},
   "outputs": [
    {
     "name": "stdout",
     "output_type": "stream",
     "text": [
      "                              ARMA Model Results                              \n",
      "==============================================================================\n",
      "Dep. Variable:                 differ   No. Observations:                 2156\n",
      "Model:                     ARMA(1, 0)   Log Likelihood              -15247.858\n",
      "Method:                       css-mle   S.D. of innovations            285.246\n",
      "Date:                Thu, 03 Feb 2022   AIC                          30501.715\n",
      "Time:                        14:53:56   BIC                          30518.743\n",
      "Sample:                    09-18-2014   HQIC                         30507.944\n",
      "                         - 08-12-2020                                         \n",
      "================================================================================\n",
      "                   coef    std err          z      P>|z|      [0.025      0.975]\n",
      "--------------------------------------------------------------------------------\n",
      "const            5.1612      6.245      0.826      0.409      -7.078      17.401\n",
      "ar.L1.differ     0.0163      0.022      0.756      0.449      -0.026       0.058\n",
      "                                    Roots                                    \n",
      "=============================================================================\n",
      "                  Real          Imaginary           Modulus         Frequency\n",
      "-----------------------------------------------------------------------------\n",
      "AR.1           61.4027           +0.0000j           61.4027            0.0000\n",
      "-----------------------------------------------------------------------------\n"
     ]
    },
    {
     "name": "stderr",
     "output_type": "stream",
     "text": [
      "C:\\Users\\oshav\\anaconda3\\lib\\site-packages\\statsmodels\\tsa\\base\\tsa_model.py:524: ValueWarning: No frequency information was provided, so inferred frequency D will be used.\n",
      "  warnings.warn('No frequency information was'\n"
     ]
    }
   ],
   "source": [
    "mod_ar1 = ARMA(train.dropna(), order=(1, 0))\n",
    "res_ar1 = mod_ar1.fit()\n",
    "print(res_ar1.summary())"
   ]
  },
  {
   "cell_type": "code",
   "execution_count": 24,
   "id": "02343dbd",
   "metadata": {},
   "outputs": [],
   "source": [
    "predictions_ar1 = res_ar1.predict(test.index[0],test.index[-1])\n"
   ]
  },
  {
   "cell_type": "code",
   "execution_count": 25,
   "id": "1f3ef506",
   "metadata": {},
   "outputs": [
    {
     "data": {
      "text/plain": [
       "1613.6915600004236"
      ]
     },
     "execution_count": 25,
     "metadata": {},
     "output_type": "execute_result"
    }
   ],
   "source": [
    "from statsmodels.tools.eval_measures import rmse\n",
    "rmse_ar1 = rmse(test,predictions_ar1)\n",
    "rmse_ar1"
   ]
  },
  {
   "cell_type": "code",
   "execution_count": 26,
   "id": "5f6b5734",
   "metadata": {},
   "outputs": [
    {
     "name": "stdout",
     "output_type": "stream",
     "text": [
      "                              ARMA Model Results                              \n",
      "==============================================================================\n",
      "Dep. Variable:                 differ   No. Observations:                 2156\n",
      "Model:                     ARMA(0, 1)   Log Likelihood              -15247.853\n",
      "Method:                       css-mle   S.D. of innovations            285.245\n",
      "Date:                Thu, 03 Feb 2022   AIC                          30501.706\n",
      "Time:                        14:54:15   BIC                          30518.734\n",
      "Sample:                    09-18-2014   HQIC                         30507.934\n",
      "                         - 08-12-2020                                         \n",
      "================================================================================\n",
      "                   coef    std err          z      P>|z|      [0.025      0.975]\n",
      "--------------------------------------------------------------------------------\n",
      "const            5.1612      6.245      0.826      0.409      -7.078      17.401\n",
      "ma.L1.differ     0.0166      0.022      0.763      0.445      -0.026       0.059\n",
      "                                    Roots                                    \n",
      "=============================================================================\n",
      "                  Real          Imaginary           Modulus         Frequency\n",
      "-----------------------------------------------------------------------------\n",
      "MA.1          -60.3956           +0.0000j           60.3956            0.5000\n",
      "-----------------------------------------------------------------------------\n"
     ]
    },
    {
     "name": "stderr",
     "output_type": "stream",
     "text": [
      "C:\\Users\\oshav\\anaconda3\\lib\\site-packages\\statsmodels\\tsa\\base\\tsa_model.py:524: ValueWarning: No frequency information was provided, so inferred frequency D will be used.\n",
      "  warnings.warn('No frequency information was'\n"
     ]
    }
   ],
   "source": [
    "mod_ma1 = ARMA(train.dropna(), order=(0, 1))\n",
    "res_ma1 = mod_ma1.fit()\n",
    "print(res_ma1.summary())"
   ]
  },
  {
   "cell_type": "code",
   "execution_count": 27,
   "id": "75d428b6",
   "metadata": {},
   "outputs": [
    {
     "data": {
      "text/plain": [
       "1613.691520364945"
      ]
     },
     "execution_count": 27,
     "metadata": {},
     "output_type": "execute_result"
    }
   ],
   "source": [
    "predictions_ma1 = res_ma1.predict(test.index[0],test.index[-1])\n",
    "rmse_ma1 = rmse(test,predictions_ma1)\n",
    "rmse_ma1"
   ]
  },
  {
   "cell_type": "code",
   "execution_count": 28,
   "id": "ee8df24e",
   "metadata": {},
   "outputs": [
    {
     "data": {
      "text/html": [
       "<div>\n",
       "<style scoped>\n",
       "    .dataframe tbody tr th:only-of-type {\n",
       "        vertical-align: middle;\n",
       "    }\n",
       "\n",
       "    .dataframe tbody tr th {\n",
       "        vertical-align: top;\n",
       "    }\n",
       "\n",
       "    .dataframe thead th {\n",
       "        text-align: right;\n",
       "    }\n",
       "</style>\n",
       "<table border=\"1\" class=\"dataframe\">\n",
       "  <thead>\n",
       "    <tr style=\"text-align: right;\">\n",
       "      <th></th>\n",
       "      <th>model</th>\n",
       "      <th>RMSE</th>\n",
       "      <th>AIC</th>\n",
       "      <th>BIC</th>\n",
       "    </tr>\n",
       "  </thead>\n",
       "  <tbody>\n",
       "    <tr>\n",
       "      <th>0</th>\n",
       "      <td>AR(1)</td>\n",
       "      <td>1613.69156</td>\n",
       "      <td>30501.715331</td>\n",
       "      <td>30518.743361</td>\n",
       "    </tr>\n",
       "    <tr>\n",
       "      <th>1</th>\n",
       "      <td>MA(1)</td>\n",
       "      <td>1613.69152</td>\n",
       "      <td>30501.705671</td>\n",
       "      <td>30518.733701</td>\n",
       "    </tr>\n",
       "  </tbody>\n",
       "</table>\n",
       "</div>"
      ],
      "text/plain": [
       "   model        RMSE           AIC           BIC\n",
       "0  AR(1)  1613.69156  30501.715331  30518.743361\n",
       "1  MA(1)  1613.69152  30501.705671  30518.733701"
      ]
     },
     "execution_count": 28,
     "metadata": {},
     "output_type": "execute_result"
    }
   ],
   "source": [
    "comparison_models = pd.DataFrame({'model': ['AR(1)','MA(1)'],'RMSE': [rmse_ar1, rmse_ma1], 'AIC': [res_ar1.aic, res_ma1.aic], 'BIC': [res_ar1.bic, res_ma1.bic]})\n",
    "comparison_models"
   ]
  },
  {
   "cell_type": "code",
   "execution_count": 29,
   "id": "379de07d",
   "metadata": {},
   "outputs": [],
   "source": [
    "def optimize_ARMA(order_list, exog):\n",
    "    \"\"\"\n",
    "        Return dataframe with parameters and corresponding AIC\n",
    "        \n",
    "        order_list - list with (p, q) tuples\n",
    "        exog - the exogenous variable\n",
    "    \"\"\"\n",
    "    \n",
    "    results = []\n",
    "    \n",
    "    for order in (order_list):\n",
    "        try: \n",
    "            model = ARMA(exog, order=order).fit()\n",
    "        except:\n",
    "            continue\n",
    "            \n",
    "        aic = model.aic\n",
    "        results.append([order, model.aic, model.bic])\n",
    "        \n",
    "    result_df = pd.DataFrame(results)\n",
    "    result_df.columns = ['(p, q)', 'AIC', 'BIC']\n",
    "    #Sort in ascending order, lower AIC is better\n",
    "    result_df = result_df.sort_values(by='AIC', ascending=True).reset_index(drop=True)\n",
    "    \n",
    "    return result_df"
   ]
  },
  {
   "cell_type": "code",
   "execution_count": 30,
   "id": "9d550de1",
   "metadata": {},
   "outputs": [],
   "source": [
    "p = range(5)\n",
    "q =range(5)\n",
    "order_list = [(x,y) for x in p for y in q] "
   ]
  },
  {
   "cell_type": "code",
   "execution_count": 31,
   "id": "127f572b",
   "metadata": {},
   "outputs": [
    {
     "name": "stderr",
     "output_type": "stream",
     "text": [
      "C:\\Users\\oshav\\anaconda3\\lib\\site-packages\\statsmodels\\tsa\\base\\tsa_model.py:524: ValueWarning: No frequency information was provided, so inferred frequency D will be used.\n",
      "  warnings.warn('No frequency information was'\n",
      "C:\\Users\\oshav\\anaconda3\\lib\\site-packages\\statsmodels\\tsa\\base\\tsa_model.py:524: ValueWarning: No frequency information was provided, so inferred frequency D will be used.\n",
      "  warnings.warn('No frequency information was'\n",
      "C:\\Users\\oshav\\anaconda3\\lib\\site-packages\\statsmodels\\tsa\\base\\tsa_model.py:524: ValueWarning: No frequency information was provided, so inferred frequency D will be used.\n",
      "  warnings.warn('No frequency information was'\n",
      "C:\\Users\\oshav\\anaconda3\\lib\\site-packages\\statsmodels\\tsa\\base\\tsa_model.py:524: ValueWarning: No frequency information was provided, so inferred frequency D will be used.\n",
      "  warnings.warn('No frequency information was'\n",
      "C:\\Users\\oshav\\anaconda3\\lib\\site-packages\\statsmodels\\tsa\\base\\tsa_model.py:524: ValueWarning: No frequency information was provided, so inferred frequency D will be used.\n",
      "  warnings.warn('No frequency information was'\n",
      "C:\\Users\\oshav\\anaconda3\\lib\\site-packages\\statsmodels\\tsa\\base\\tsa_model.py:524: ValueWarning: No frequency information was provided, so inferred frequency D will be used.\n",
      "  warnings.warn('No frequency information was'\n",
      "C:\\Users\\oshav\\anaconda3\\lib\\site-packages\\statsmodels\\tsa\\base\\tsa_model.py:524: ValueWarning: No frequency information was provided, so inferred frequency D will be used.\n",
      "  warnings.warn('No frequency information was'\n",
      "C:\\Users\\oshav\\anaconda3\\lib\\site-packages\\statsmodels\\tsa\\base\\tsa_model.py:524: ValueWarning: No frequency information was provided, so inferred frequency D will be used.\n",
      "  warnings.warn('No frequency information was'\n",
      "C:\\Users\\oshav\\anaconda3\\lib\\site-packages\\statsmodels\\tsa\\base\\tsa_model.py:524: ValueWarning: No frequency information was provided, so inferred frequency D will be used.\n",
      "  warnings.warn('No frequency information was'\n",
      "C:\\Users\\oshav\\anaconda3\\lib\\site-packages\\statsmodels\\tsa\\base\\tsa_model.py:524: ValueWarning: No frequency information was provided, so inferred frequency D will be used.\n",
      "  warnings.warn('No frequency information was'\n",
      "C:\\Users\\oshav\\anaconda3\\lib\\site-packages\\statsmodels\\tsa\\base\\tsa_model.py:524: ValueWarning: No frequency information was provided, so inferred frequency D will be used.\n",
      "  warnings.warn('No frequency information was'\n",
      "C:\\Users\\oshav\\anaconda3\\lib\\site-packages\\statsmodels\\tsa\\base\\tsa_model.py:524: ValueWarning: No frequency information was provided, so inferred frequency D will be used.\n",
      "  warnings.warn('No frequency information was'\n",
      "C:\\Users\\oshav\\anaconda3\\lib\\site-packages\\statsmodels\\tsa\\base\\tsa_model.py:524: ValueWarning: No frequency information was provided, so inferred frequency D will be used.\n",
      "  warnings.warn('No frequency information was'\n",
      "C:\\Users\\oshav\\anaconda3\\lib\\site-packages\\statsmodels\\tsa\\base\\tsa_model.py:524: ValueWarning: No frequency information was provided, so inferred frequency D will be used.\n",
      "  warnings.warn('No frequency information was'\n",
      "C:\\Users\\oshav\\anaconda3\\lib\\site-packages\\statsmodels\\tsa\\base\\tsa_model.py:524: ValueWarning: No frequency information was provided, so inferred frequency D will be used.\n",
      "  warnings.warn('No frequency information was'\n",
      "C:\\Users\\oshav\\anaconda3\\lib\\site-packages\\statsmodels\\base\\model.py:547: HessianInversionWarning: Inverting hessian failed, no bse or cov_params available\n",
      "  warnings.warn('Inverting hessian failed, no bse or cov_params '\n",
      "C:\\Users\\oshav\\anaconda3\\lib\\site-packages\\statsmodels\\tsa\\base\\tsa_model.py:524: ValueWarning: No frequency information was provided, so inferred frequency D will be used.\n",
      "  warnings.warn('No frequency information was'\n",
      "C:\\Users\\oshav\\anaconda3\\lib\\site-packages\\statsmodels\\tsa\\base\\tsa_model.py:524: ValueWarning: No frequency information was provided, so inferred frequency D will be used.\n",
      "  warnings.warn('No frequency information was'\n",
      "C:\\Users\\oshav\\anaconda3\\lib\\site-packages\\statsmodels\\tsa\\base\\tsa_model.py:524: ValueWarning: No frequency information was provided, so inferred frequency D will be used.\n",
      "  warnings.warn('No frequency information was'\n",
      "C:\\Users\\oshav\\anaconda3\\lib\\site-packages\\statsmodels\\tsa\\base\\tsa_model.py:524: ValueWarning: No frequency information was provided, so inferred frequency D will be used.\n",
      "  warnings.warn('No frequency information was'\n",
      "C:\\Users\\oshav\\anaconda3\\lib\\site-packages\\statsmodels\\tsa\\base\\tsa_model.py:524: ValueWarning: No frequency information was provided, so inferred frequency D will be used.\n",
      "  warnings.warn('No frequency information was'\n",
      "C:\\Users\\oshav\\anaconda3\\lib\\site-packages\\statsmodels\\base\\model.py:547: HessianInversionWarning: Inverting hessian failed, no bse or cov_params available\n",
      "  warnings.warn('Inverting hessian failed, no bse or cov_params '\n",
      "C:\\Users\\oshav\\anaconda3\\lib\\site-packages\\statsmodels\\tsa\\base\\tsa_model.py:524: ValueWarning: No frequency information was provided, so inferred frequency D will be used.\n",
      "  warnings.warn('No frequency information was'\n",
      "C:\\Users\\oshav\\anaconda3\\lib\\site-packages\\statsmodels\\tsa\\base\\tsa_model.py:524: ValueWarning: No frequency information was provided, so inferred frequency D will be used.\n",
      "  warnings.warn('No frequency information was'\n",
      "C:\\Users\\oshav\\anaconda3\\lib\\site-packages\\statsmodels\\tsa\\base\\tsa_model.py:524: ValueWarning: No frequency information was provided, so inferred frequency D will be used.\n",
      "  warnings.warn('No frequency information was'\n",
      "C:\\Users\\oshav\\anaconda3\\lib\\site-packages\\statsmodels\\tsa\\base\\tsa_model.py:524: ValueWarning: No frequency information was provided, so inferred frequency D will be used.\n",
      "  warnings.warn('No frequency information was'\n",
      "C:\\Users\\oshav\\anaconda3\\lib\\site-packages\\statsmodels\\tsa\\base\\tsa_model.py:524: ValueWarning: No frequency information was provided, so inferred frequency D will be used.\n",
      "  warnings.warn('No frequency information was'\n",
      "C:\\Users\\oshav\\anaconda3\\lib\\site-packages\\statsmodels\\base\\model.py:547: HessianInversionWarning: Inverting hessian failed, no bse or cov_params available\n",
      "  warnings.warn('Inverting hessian failed, no bse or cov_params '\n"
     ]
    }
   ],
   "source": [
    "result_arma = optimize_ARMA(order_list, data.differ.dropna())"
   ]
  },
  {
   "cell_type": "code",
   "execution_count": 32,
   "id": "eea52879",
   "metadata": {},
   "outputs": [
    {
     "data": {
      "text/html": [
       "<div>\n",
       "<style scoped>\n",
       "    .dataframe tbody tr th:only-of-type {\n",
       "        vertical-align: middle;\n",
       "    }\n",
       "\n",
       "    .dataframe tbody tr th {\n",
       "        vertical-align: top;\n",
       "    }\n",
       "\n",
       "    .dataframe thead th {\n",
       "        text-align: right;\n",
       "    }\n",
       "</style>\n",
       "<table border=\"1\" class=\"dataframe\">\n",
       "  <thead>\n",
       "    <tr style=\"text-align: right;\">\n",
       "      <th></th>\n",
       "      <th>(p, q)</th>\n",
       "      <th>AIC</th>\n",
       "      <th>BIC</th>\n",
       "    </tr>\n",
       "  </thead>\n",
       "  <tbody>\n",
       "    <tr>\n",
       "      <th>0</th>\n",
       "      <td>(4, 4)</td>\n",
       "      <td>43424.897856</td>\n",
       "      <td>43483.893101</td>\n",
       "    </tr>\n",
       "    <tr>\n",
       "      <th>1</th>\n",
       "      <td>(4, 2)</td>\n",
       "      <td>43433.910993</td>\n",
       "      <td>43481.107189</td>\n",
       "    </tr>\n",
       "    <tr>\n",
       "      <th>2</th>\n",
       "      <td>(2, 4)</td>\n",
       "      <td>43434.426598</td>\n",
       "      <td>43481.622793</td>\n",
       "    </tr>\n",
       "    <tr>\n",
       "      <th>3</th>\n",
       "      <td>(4, 3)</td>\n",
       "      <td>43436.149088</td>\n",
       "      <td>43489.244809</td>\n",
       "    </tr>\n",
       "    <tr>\n",
       "      <th>4</th>\n",
       "      <td>(3, 4)</td>\n",
       "      <td>43437.357026</td>\n",
       "      <td>43490.452747</td>\n",
       "    </tr>\n",
       "    <tr>\n",
       "      <th>5</th>\n",
       "      <td>(2, 2)</td>\n",
       "      <td>43442.814744</td>\n",
       "      <td>43478.211891</td>\n",
       "    </tr>\n",
       "    <tr>\n",
       "      <th>6</th>\n",
       "      <td>(3, 3)</td>\n",
       "      <td>43445.868029</td>\n",
       "      <td>43493.064225</td>\n",
       "    </tr>\n",
       "    <tr>\n",
       "      <th>7</th>\n",
       "      <td>(0, 4)</td>\n",
       "      <td>43462.052541</td>\n",
       "      <td>43497.449688</td>\n",
       "    </tr>\n",
       "    <tr>\n",
       "      <th>8</th>\n",
       "      <td>(4, 0)</td>\n",
       "      <td>43463.067828</td>\n",
       "      <td>43498.464975</td>\n",
       "    </tr>\n",
       "    <tr>\n",
       "      <th>9</th>\n",
       "      <td>(1, 2)</td>\n",
       "      <td>43463.113165</td>\n",
       "      <td>43492.610787</td>\n",
       "    </tr>\n",
       "    <tr>\n",
       "      <th>10</th>\n",
       "      <td>(2, 1)</td>\n",
       "      <td>43463.180995</td>\n",
       "      <td>43492.678618</td>\n",
       "    </tr>\n",
       "    <tr>\n",
       "      <th>11</th>\n",
       "      <td>(0, 0)</td>\n",
       "      <td>43463.408136</td>\n",
       "      <td>43475.207185</td>\n",
       "    </tr>\n",
       "    <tr>\n",
       "      <th>12</th>\n",
       "      <td>(1, 4)</td>\n",
       "      <td>43463.460680</td>\n",
       "      <td>43504.757352</td>\n",
       "    </tr>\n",
       "    <tr>\n",
       "      <th>13</th>\n",
       "      <td>(1, 0)</td>\n",
       "      <td>43463.575736</td>\n",
       "      <td>43481.274310</td>\n",
       "    </tr>\n",
       "    <tr>\n",
       "      <th>14</th>\n",
       "      <td>(0, 1)</td>\n",
       "      <td>43463.590177</td>\n",
       "      <td>43481.288751</td>\n",
       "    </tr>\n",
       "    <tr>\n",
       "      <th>15</th>\n",
       "      <td>(4, 1)</td>\n",
       "      <td>43463.636557</td>\n",
       "      <td>43504.933228</td>\n",
       "    </tr>\n",
       "    <tr>\n",
       "      <th>16</th>\n",
       "      <td>(1, 3)</td>\n",
       "      <td>43464.946446</td>\n",
       "      <td>43500.343593</td>\n",
       "    </tr>\n",
       "    <tr>\n",
       "      <th>17</th>\n",
       "      <td>(1, 1)</td>\n",
       "      <td>43465.221278</td>\n",
       "      <td>43488.819376</td>\n",
       "    </tr>\n",
       "    <tr>\n",
       "      <th>18</th>\n",
       "      <td>(0, 2)</td>\n",
       "      <td>43465.539135</td>\n",
       "      <td>43489.137233</td>\n",
       "    </tr>\n",
       "    <tr>\n",
       "      <th>19</th>\n",
       "      <td>(2, 0)</td>\n",
       "      <td>43465.544188</td>\n",
       "      <td>43489.142286</td>\n",
       "    </tr>\n",
       "    <tr>\n",
       "      <th>20</th>\n",
       "      <td>(3, 1)</td>\n",
       "      <td>43465.747113</td>\n",
       "      <td>43501.144260</td>\n",
       "    </tr>\n",
       "    <tr>\n",
       "      <th>21</th>\n",
       "      <td>(2, 3)</td>\n",
       "      <td>43466.880201</td>\n",
       "      <td>43508.176872</td>\n",
       "    </tr>\n",
       "    <tr>\n",
       "      <th>22</th>\n",
       "      <td>(3, 2)</td>\n",
       "      <td>43466.950438</td>\n",
       "      <td>43508.247109</td>\n",
       "    </tr>\n",
       "    <tr>\n",
       "      <th>23</th>\n",
       "      <td>(0, 3)</td>\n",
       "      <td>43467.306820</td>\n",
       "      <td>43496.804442</td>\n",
       "    </tr>\n",
       "    <tr>\n",
       "      <th>24</th>\n",
       "      <td>(3, 0)</td>\n",
       "      <td>43467.403952</td>\n",
       "      <td>43496.901575</td>\n",
       "    </tr>\n",
       "  </tbody>\n",
       "</table>\n",
       "</div>"
      ],
      "text/plain": [
       "    (p, q)           AIC           BIC\n",
       "0   (4, 4)  43424.897856  43483.893101\n",
       "1   (4, 2)  43433.910993  43481.107189\n",
       "2   (2, 4)  43434.426598  43481.622793\n",
       "3   (4, 3)  43436.149088  43489.244809\n",
       "4   (3, 4)  43437.357026  43490.452747\n",
       "5   (2, 2)  43442.814744  43478.211891\n",
       "6   (3, 3)  43445.868029  43493.064225\n",
       "7   (0, 4)  43462.052541  43497.449688\n",
       "8   (4, 0)  43463.067828  43498.464975\n",
       "9   (1, 2)  43463.113165  43492.610787\n",
       "10  (2, 1)  43463.180995  43492.678618\n",
       "11  (0, 0)  43463.408136  43475.207185\n",
       "12  (1, 4)  43463.460680  43504.757352\n",
       "13  (1, 0)  43463.575736  43481.274310\n",
       "14  (0, 1)  43463.590177  43481.288751\n",
       "15  (4, 1)  43463.636557  43504.933228\n",
       "16  (1, 3)  43464.946446  43500.343593\n",
       "17  (1, 1)  43465.221278  43488.819376\n",
       "18  (0, 2)  43465.539135  43489.137233\n",
       "19  (2, 0)  43465.544188  43489.142286\n",
       "20  (3, 1)  43465.747113  43501.144260\n",
       "21  (2, 3)  43466.880201  43508.176872\n",
       "22  (3, 2)  43466.950438  43508.247109\n",
       "23  (0, 3)  43467.306820  43496.804442\n",
       "24  (3, 0)  43467.403952  43496.901575"
      ]
     },
     "execution_count": 32,
     "metadata": {},
     "output_type": "execute_result"
    }
   ],
   "source": [
    "result_arma\n"
   ]
  },
  {
   "cell_type": "code",
   "execution_count": 34,
   "id": "dea8688e",
   "metadata": {},
   "outputs": [
    {
     "data": {
      "text/html": [
       "<div>\n",
       "<style scoped>\n",
       "    .dataframe tbody tr th:only-of-type {\n",
       "        vertical-align: middle;\n",
       "    }\n",
       "\n",
       "    .dataframe tbody tr th {\n",
       "        vertical-align: top;\n",
       "    }\n",
       "\n",
       "    .dataframe thead th {\n",
       "        text-align: right;\n",
       "    }\n",
       "</style>\n",
       "<table border=\"1\" class=\"dataframe\">\n",
       "  <thead>\n",
       "    <tr style=\"text-align: right;\">\n",
       "      <th></th>\n",
       "      <th>(p, q)</th>\n",
       "      <th>AIC</th>\n",
       "      <th>BIC</th>\n",
       "    </tr>\n",
       "  </thead>\n",
       "  <tbody>\n",
       "    <tr>\n",
       "      <th>0</th>\n",
       "      <td>(4, 4)</td>\n",
       "      <td>43424.897856</td>\n",
       "      <td>43483.893101</td>\n",
       "    </tr>\n",
       "  </tbody>\n",
       "</table>\n",
       "</div>"
      ],
      "text/plain": [
       "   (p, q)           AIC           BIC\n",
       "0  (4, 4)  43424.897856  43483.893101"
      ]
     },
     "execution_count": 34,
     "metadata": {},
     "output_type": "execute_result"
    }
   ],
   "source": [
    "result_arma[result_arma.AIC == result_arma.AIC.min()]\n"
   ]
  },
  {
   "cell_type": "code",
   "execution_count": 39,
   "id": "9838948a",
   "metadata": {},
   "outputs": [
    {
     "data": {
      "text/plain": [
       "DatetimeIndex(['2022-02-02', '2022-02-03', '2022-02-04', '2022-02-05',\n",
       "               '2022-02-06', '2022-02-07'],\n",
       "              dtype='datetime64[ns]', freq='D')"
      ]
     },
     "execution_count": 39,
     "metadata": {},
     "output_type": "execute_result"
    }
   ],
   "source": [
    "test_prediction = pd.date_range(\"2022-02-02\", periods=6, freq=\"D\")\n",
    "test_prediction\n"
   ]
  },
  {
   "cell_type": "code",
   "execution_count": 40,
   "id": "f27ec7f5",
   "metadata": {},
   "outputs": [
    {
     "data": {
      "text/plain": [
       "36952.984375"
      ]
     },
     "execution_count": 40,
     "metadata": {},
     "output_type": "execute_result"
    }
   ],
   "source": [
    "data.loc['2022-02-02 00:00:00', 'Close']\n"
   ]
  },
  {
   "cell_type": "code",
   "execution_count": 54,
   "id": "2d4a8027",
   "metadata": {},
   "outputs": [
    {
     "name": "stderr",
     "output_type": "stream",
     "text": [
      "C:\\Users\\oshav\\anaconda3\\lib\\site-packages\\statsmodels\\tsa\\base\\tsa_model.py:524: ValueWarning: No frequency information was provided, so inferred frequency D will be used.\n",
      "  warnings.warn('No frequency information was'\n",
      "C:\\Users\\oshav\\anaconda3\\lib\\site-packages\\statsmodels\\tsa\\base\\tsa_model.py:524: ValueWarning: No frequency information was provided, so inferred frequency D will be used.\n",
      "  warnings.warn('No frequency information was'\n",
      "C:\\Users\\oshav\\anaconda3\\lib\\site-packages\\statsmodels\\base\\model.py:547: HessianInversionWarning: Inverting hessian failed, no bse or cov_params available\n",
      "  warnings.warn('Inverting hessian failed, no bse or cov_params '\n",
      "C:\\Users\\oshav\\anaconda3\\lib\\site-packages\\statsmodels\\base\\model.py:566: ConvergenceWarning: Maximum Likelihood optimization failed to converge. Check mle_retvals\n",
      "  warnings.warn(\"Maximum Likelihood optimization failed to \"\n"
     ]
    },
    {
     "name": "stdout",
     "output_type": "stream",
     "text": [
      "                             ARIMA Model Results                              \n",
      "==============================================================================\n",
      "Dep. Variable:              D2.differ   No. Observations:                 2694\n",
      "Model:                 ARIMA(2, 2, 4)   Log Likelihood              -21700.516\n",
      "Method:                       css-mle   S.D. of innovations            757.005\n",
      "Date:                Thu, 03 Feb 2022   AIC                          43417.033\n",
      "Time:                        16:21:43   BIC                          43464.223\n",
      "Sample:                    09-20-2014   HQIC                         43434.100\n",
      "                         - 02-03-2022                                         \n",
      "===================================================================================\n",
      "                      coef    std err          z      P>|z|      [0.025      0.975]\n",
      "-----------------------------------------------------------------------------------\n",
      "const           -1.645e-05        nan        nan        nan         nan         nan\n",
      "ar.L1.D2.differ    -0.4812      0.004   -122.884      0.000      -0.489      -0.473\n",
      "ar.L2.D2.differ    -0.9832      0.004   -258.262      0.000      -0.991      -0.976\n",
      "ma.L1.D2.differ    -1.5428        nan        nan        nan         nan         nan\n",
      "ma.L2.D2.differ     1.0856   4.58e-08   2.37e+07      0.000       1.086       1.086\n",
      "ma.L3.D2.differ    -1.5428        nan        nan        nan         nan         nan\n",
      "ma.L4.D2.differ     1.0000        nan        nan        nan         nan         nan\n",
      "                                    Roots                                    \n",
      "=============================================================================\n",
      "                  Real          Imaginary           Modulus         Frequency\n",
      "-----------------------------------------------------------------------------\n",
      "AR.1           -0.2447           -0.9784j            1.0085           -0.2890\n",
      "AR.2           -0.2447           +0.9784j            1.0085            0.2890\n",
      "MA.1           -0.2286           -0.9735j            1.0000           -0.2867\n",
      "MA.2           -0.2286           +0.9735j            1.0000            0.2867\n",
      "MA.3            1.0000           -0.0000j            1.0000           -0.0000\n",
      "MA.4            1.0000           +0.0000j            1.0000            0.0000\n",
      "-----------------------------------------------------------------------------\n"
     ]
    }
   ],
   "source": [
    "mod_arima224 = ARIMA(data.differ.dropna(), order=(2,2,4))\n",
    "res_arima224 = mod_arima224.fit()\n",
    "print(res_arima224.summary())\n"
   ]
  },
  {
   "cell_type": "code",
   "execution_count": 55,
   "id": "48503444",
   "metadata": {},
   "outputs": [],
   "source": [
    "predictions = res_arima224.predict(start='2022-02-02 00:00:00', end='2022-02-07 00:00:00')"
   ]
  },
  {
   "cell_type": "code",
   "execution_count": 56,
   "id": "f856d205",
   "metadata": {},
   "outputs": [],
   "source": [
    "def predictions_5(predictions):\n",
    "\t'''\n",
    "\tThis function goes back to the price based on the values of diff predicted by the model\n",
    "\t'''\n",
    "\tresult=[data.loc['2022-01-19 00:00:00', 'Close']]\n",
    "\tfor i in range(1,6):\n",
    "\t\tresult.append(result[-1]+predictions[i])\n",
    "\treturn result"
   ]
  },
  {
   "cell_type": "code",
   "execution_count": 57,
   "id": "ec40c6f6",
   "metadata": {},
   "outputs": [],
   "source": [
    "result = predictions_5(predictions)\n"
   ]
  },
  {
   "cell_type": "code",
   "execution_count": 58,
   "id": "541bf36d",
   "metadata": {},
   "outputs": [
    {
     "data": {
      "text/plain": [
       "[41744.328125,\n",
       " 45210.57682186161,\n",
       " 44471.93055887318,\n",
       " 43370.18554156322,\n",
       " 42983.65652174508,\n",
       " 44252.90959679358]"
      ]
     },
     "execution_count": 58,
     "metadata": {},
     "output_type": "execute_result"
    }
   ],
   "source": [
    "result"
   ]
  },
  {
   "cell_type": "code",
   "execution_count": null,
   "id": "c213dd94",
   "metadata": {},
   "outputs": [],
   "source": []
  }
 ],
 "metadata": {
  "kernelspec": {
   "display_name": "Python 3",
   "language": "python",
   "name": "python3"
  },
  "language_info": {
   "codemirror_mode": {
    "name": "ipython",
    "version": 3
   },
   "file_extension": ".py",
   "mimetype": "text/x-python",
   "name": "python",
   "nbconvert_exporter": "python",
   "pygments_lexer": "ipython3",
   "version": "3.8.8"
  }
 },
 "nbformat": 4,
 "nbformat_minor": 5
}
