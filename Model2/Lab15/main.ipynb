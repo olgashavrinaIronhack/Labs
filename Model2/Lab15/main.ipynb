{
 "cells": [
  {
   "cell_type": "markdown",
   "id": "3ecf6ffe",
   "metadata": {},
   "source": [
    "# Challenge 1. Write a Python program to print all permutations of the string \"Ironhack\""
   ]
  },
  {
   "cell_type": "code",
   "execution_count": 1,
   "id": "f72ebf33",
   "metadata": {},
   "outputs": [
    {
     "data": {
      "text/plain": [
       "['I', 'r', 'o']"
      ]
     },
     "execution_count": 1,
     "metadata": {},
     "output_type": "execute_result"
    }
   ],
   "source": [
    "text=\"Iro\"\n",
    "l=list(text)\n",
    "l"
   ]
  },
  {
   "cell_type": "code",
   "execution_count": 2,
   "id": "8f55feba",
   "metadata": {},
   "outputs": [],
   "source": [
    "def all_perms(elements):\n",
    "    if len(elements) <=1:\n",
    "        yield elements\n",
    "    else:\n",
    "        for perm in all_perms(elements[1:]):\n",
    "            for i in range(len(elements)):\n",
    "                # nb elements[0:1] works in both string and list contexts\n",
    "                yield perm[:i] + elements[0:1] + perm[i:]"
   ]
  },
  {
   "cell_type": "code",
   "execution_count": 3,
   "id": "831d6105",
   "metadata": {},
   "outputs": [
    {
     "name": "stdout",
     "output_type": "stream",
     "text": [
      "['I', 'r', 'o']\n",
      "['r', 'I', 'o']\n",
      "['r', 'o', 'I']\n",
      "['I', 'o', 'r']\n",
      "['o', 'I', 'r']\n",
      "['o', 'r', 'I']\n"
     ]
    }
   ],
   "source": [
    "for i in all_perms(l):\n",
    "    print(i)"
   ]
  },
  {
   "cell_type": "code",
   "execution_count": 4,
   "id": "38ea8501",
   "metadata": {
    "scrolled": true
   },
   "outputs": [
    {
     "data": {
      "text/plain": [
       "[('I', 'r', 'o'),\n",
       " ('I', 'o', 'r'),\n",
       " ('r', 'I', 'o'),\n",
       " ('r', 'o', 'I'),\n",
       " ('o', 'I', 'r'),\n",
       " ('o', 'r', 'I')]"
      ]
     },
     "execution_count": 4,
     "metadata": {},
     "output_type": "execute_result"
    }
   ],
   "source": [
    "import itertools\n",
    "list(itertools.permutations(l))"
   ]
  },
  {
   "cell_type": "code",
   "execution_count": 5,
   "id": "97b97527",
   "metadata": {
    "scrolled": false
   },
   "outputs": [
    {
     "data": {
      "text/plain": [
       "[['I', 'r', 'o'],\n",
       " ['I', 'o', 'r'],\n",
       " ['r', 'I', 'o'],\n",
       " ['r', 'o', 'I'],\n",
       " ['o', 'I', 'r'],\n",
       " ['o', 'r', 'I']]"
      ]
     },
     "execution_count": 5,
     "metadata": {},
     "output_type": "execute_result"
    }
   ],
   "source": [
    "[list(x) for x in list(itertools.permutations(l))]"
   ]
  },
  {
   "cell_type": "code",
   "execution_count": 6,
   "id": "f334fad0",
   "metadata": {},
   "outputs": [
    {
     "data": {
      "text/plain": [
       "['I',\n",
       " 'r',\n",
       " 'o',\n",
       " 'I',\n",
       " 'o',\n",
       " 'r',\n",
       " 'r',\n",
       " 'I',\n",
       " 'o',\n",
       " 'r',\n",
       " 'o',\n",
       " 'I',\n",
       " 'o',\n",
       " 'I',\n",
       " 'r',\n",
       " 'o',\n",
       " 'r',\n",
       " 'I']"
      ]
     },
     "execution_count": 6,
     "metadata": {},
     "output_type": "execute_result"
    }
   ],
   "source": [
    "sum([list(x) for x in list(itertools.permutations(l))], [])"
   ]
  },
  {
   "cell_type": "markdown",
   "id": "cbe6e4f0",
   "metadata": {},
   "source": [
    "# Challenge 2: How many ways can you choose 3 people from a group of 17 for making the group projects teams?"
   ]
  },
  {
   "cell_type": "markdown",
   "id": "a93943b1",
   "metadata": {},
   "source": [
    "We need to compute combinations : nCm = 17C3"
   ]
  },
  {
   "cell_type": "code",
   "execution_count": 7,
   "id": "e3210de4",
   "metadata": {},
   "outputs": [
    {
     "data": {
      "text/plain": [
       "680"
      ]
     },
     "execution_count": 7,
     "metadata": {},
     "output_type": "execute_result"
    }
   ],
   "source": [
    "from math import comb\n",
    "from scipy.special import factorial\n",
    "comb(17,3)"
   ]
  },
  {
   "cell_type": "code",
   "execution_count": 8,
   "id": "1600d3b2",
   "metadata": {},
   "outputs": [],
   "source": [
    "def combi(n,p):\n",
    "    return factorial(n)/(factorial(n-p)*factorial(p))"
   ]
  },
  {
   "cell_type": "code",
   "execution_count": 9,
   "id": "998ee0c6",
   "metadata": {},
   "outputs": [
    {
     "data": {
      "text/plain": [
       "680.0"
      ]
     },
     "execution_count": 9,
     "metadata": {},
     "output_type": "execute_result"
    }
   ],
   "source": [
    "combi(17,3)"
   ]
  },
  {
   "cell_type": "markdown",
   "id": "36b2db17",
   "metadata": {},
   "source": [
    "# Challenge 3: Let's imagine you need to organize the business processes in the coffee shop. You know that each cup can be made from 10 possible ingridients. But it is not profitable to use more than 5 portions of ingridients at once. These ingridients should not be unique (for example, you can put milk twice, and a chocolate onle). How many different variations of coffee you can include to the menu?"
   ]
  },
  {
   "cell_type": "markdown",
   "id": "7e4a2d47",
   "metadata": {},
   "source": [
    "We need to compute permutations : 5permu in 10"
   ]
  },
  {
   "cell_type": "code",
   "execution_count": 10,
   "id": "e36c42b2",
   "metadata": {},
   "outputs": [
    {
     "data": {
      "text/plain": [
       "30240.0"
      ]
     },
     "execution_count": 10,
     "metadata": {},
     "output_type": "execute_result"
    }
   ],
   "source": [
    "def permu(n,p):\n",
    "    return factorial(n)/(factorial(n-p))\n",
    "\n",
    "permu(10,5)"
   ]
  },
  {
   "cell_type": "markdown",
   "id": "d0e4f3b7",
   "metadata": {},
   "source": [
    "# Challenge 4: Given an array of distinct integers, return all the possible permutations. You can return the answer in any order. The lenght of array and the integers are given by user and may vary\n"
   ]
  },
  {
   "cell_type": "code",
   "execution_count": 12,
   "id": "4e564cdd",
   "metadata": {},
   "outputs": [
    {
     "name": "stdout",
     "output_type": "stream",
     "text": [
      "Length of array3\n",
      "Choose an integer : 1\n",
      "Choose an integer : 1\n",
      "Choose an integer different than the previous one : 4\n",
      "Choose an integer : 7\n",
      "a= [1 4 7]\n"
     ]
    }
   ],
   "source": [
    "import numpy as np\n",
    "n = int(input(\"Length of array\"))\n",
    "a = np.full(n, None)\n",
    "for i in range(n):\n",
    "    el=int(input(\"Choose an integer : \"))\n",
    "    while el in a:\n",
    "        el=int(input(\"Choose an integer different than the previous one : \"))\n",
    "    np.put(a, i, el)\n",
    "\n",
    "print(\"a=\",a)"
   ]
  },
  {
   "cell_type": "code",
   "execution_count": 13,
   "id": "b708d86c",
   "metadata": {},
   "outputs": [
    {
     "data": {
      "text/plain": [
       "numpy.ndarray"
      ]
     },
     "execution_count": 13,
     "metadata": {},
     "output_type": "execute_result"
    }
   ],
   "source": [
    "type(a)"
   ]
  },
  {
   "cell_type": "code",
   "execution_count": 14,
   "id": "aca80985",
   "metadata": {},
   "outputs": [
    {
     "data": {
      "text/plain": [
       "[(1, 4, 7), (1, 7, 4), (4, 1, 7), (4, 7, 1), (7, 1, 4), (7, 4, 1)]"
      ]
     },
     "execution_count": 14,
     "metadata": {},
     "output_type": "execute_result"
    }
   ],
   "source": [
    "list(itertools.permutations(a))"
   ]
  },
  {
   "cell_type": "markdown",
   "id": "0d9fa35c",
   "metadata": {},
   "source": [
    "# Challenge 5: Use intertools library to solve the following problem: Six books are lying on a table in front of you. How many ways can you arrange the books, considering both the left-to-right order of the books and whether they’re set with the front cover facing up or down?"
   ]
  },
  {
   "cell_type": "code",
   "execution_count": 15,
   "id": "2b63343e",
   "metadata": {},
   "outputs": [],
   "source": [
    "books = [x+n+i for x in [\"A\",\"B\",\"C\",\"D\",\"E\",\"F\"] for n in [\"L\",\"R\"] for i in [\"1\",\"2\"]]"
   ]
  },
  {
   "cell_type": "code",
   "execution_count": 16,
   "id": "44c17785",
   "metadata": {},
   "outputs": [
    {
     "data": {
      "text/plain": [
       "['AL1',\n",
       " 'AL2',\n",
       " 'AR1',\n",
       " 'AR2',\n",
       " 'BL1',\n",
       " 'BL2',\n",
       " 'BR1',\n",
       " 'BR2',\n",
       " 'CL1',\n",
       " 'CL2',\n",
       " 'CR1',\n",
       " 'CR2',\n",
       " 'DL1',\n",
       " 'DL2',\n",
       " 'DR1',\n",
       " 'DR2',\n",
       " 'EL1',\n",
       " 'EL2',\n",
       " 'ER1',\n",
       " 'ER2',\n",
       " 'FL1',\n",
       " 'FL2',\n",
       " 'FR1',\n",
       " 'FR2']"
      ]
     },
     "execution_count": 16,
     "metadata": {},
     "output_type": "execute_result"
    }
   ],
   "source": [
    "books"
   ]
  },
  {
   "cell_type": "code",
   "execution_count": 17,
   "id": "26d6913f",
   "metadata": {},
   "outputs": [
    {
     "data": {
      "text/plain": [
       "<itertools.permutations at 0x1dd9b1a14a0>"
      ]
     },
     "execution_count": 17,
     "metadata": {},
     "output_type": "execute_result"
    }
   ],
   "source": [
    "itertools.permutations(books,6)"
   ]
  },
  {
   "cell_type": "code",
   "execution_count": 18,
   "id": "3e54a730",
   "metadata": {},
   "outputs": [
    {
     "data": {
      "text/plain": [
       "96909120"
      ]
     },
     "execution_count": 18,
     "metadata": {},
     "output_type": "execute_result"
    }
   ],
   "source": [
    "len(list(itertools.permutations(books,6)))"
   ]
  },
  {
   "cell_type": "code",
   "execution_count": 19,
   "id": "19dd6d7f",
   "metadata": {},
   "outputs": [
    {
     "data": {
      "text/plain": [
       "96909120.0"
      ]
     },
     "execution_count": 19,
     "metadata": {},
     "output_type": "execute_result"
    }
   ],
   "source": [
    "permu(24,6)"
   ]
  },
  {
   "cell_type": "code",
   "execution_count": null,
   "id": "5edfb277",
   "metadata": {},
   "outputs": [],
   "source": []
  }
 ],
 "metadata": {
  "kernelspec": {
   "display_name": "Python 3",
   "language": "python",
   "name": "python3"
  },
  "language_info": {
   "codemirror_mode": {
    "name": "ipython",
    "version": 3
   },
   "file_extension": ".py",
   "mimetype": "text/x-python",
   "name": "python",
   "nbconvert_exporter": "python",
   "pygments_lexer": "ipython3",
   "version": "3.8.8"
  }
 },
 "nbformat": 4,
 "nbformat_minor": 5
}
