{
 "cells": [
  {
   "cell_type": "code",
   "execution_count": 157,
   "id": "6cfd42e8",
   "metadata": {},
   "outputs": [
    {
     "name": "stdout",
     "output_type": "stream",
     "text": [
      "Welcome to this calculator!\n",
      "It can add and subtract whole numbers from zero to five\n",
      "Please choose your first number (zero to five): two\n",
      "What do you want to do? plus or minus: minus\n",
      "Please choose your second number (zero to five): five\n",
      "two minus five equals negative three \n"
     ]
    }
   ],
   "source": [
    "words=[\"zero\",'one','two','three','four','five']\n",
    "numbers=[i for i in range(0,6)]\n",
    "sign=['plus','minus']\n",
    "print('Welcome to this calculator!')\n",
    "print('It can add and subtract whole numbers from zero to five')\n",
    "\n",
    "while True:    \n",
    "        a=input('Please choose your first number (zero to five): ').lower() \n",
    "        if a not in words:\n",
    "              print(\"wrong input: number should be spelled correctly\")\n",
    "        else: \n",
    "            break\n",
    "while True:    \n",
    "        b=input('What do you want to do? plus or minus: ').lower()\n",
    "        if b not in sign:\n",
    "            print(\"Only plus or minus\")\n",
    "        else: \n",
    "            break\n",
    "while True:    \n",
    "        c=input('Please choose your second number (zero to five): ').lower() \n",
    "        if c not in words :\n",
    "              print(\"wrong input: number should be spelled correctly\")\n",
    "        else: \n",
    "            break\n",
    "d = {words[i]: numbers[i] for i in range(len(words))}\n",
    "if b=='plus':\n",
    "    math_result=d[a]+d[c]\n",
    "    in_words=words[numbers[math_result]]\n",
    "    result=\"%s %s %s equals %s \" % (a, b, c, in_words)\n",
    "    print(result)\n",
    "elif b!='plus' and math_result<0:\n",
    "    math_result=d[a]-d[c]\n",
    "    abs_mr=abs(math_result)\n",
    "    in_words=words[numbers[abs_mr]]\n",
    "    result=\"%s %s %s equals negative %s \" % (a, b, c, in_words)\n",
    "    print(result)\n",
    "else:\n",
    "    math_result=d[a]-d[c]\n",
    "    in_words=words[numbers[math_result]]\n",
    "    result=\"%s %s %s equals %s \" % (a, b, c, in_words)\n",
    "    print(result)"
   ]
  }
 ],
 "metadata": {
  "kernelspec": {
   "display_name": "Python 3",
   "language": "python",
   "name": "python3"
  },
  "language_info": {
   "codemirror_mode": {
    "name": "ipython",
    "version": 3
   },
   "file_extension": ".py",
   "mimetype": "text/x-python",
   "name": "python",
   "nbconvert_exporter": "python",
   "pygments_lexer": "ipython3",
   "version": "3.8.8"
  }
 },
 "nbformat": 4,
 "nbformat_minor": 5
}
