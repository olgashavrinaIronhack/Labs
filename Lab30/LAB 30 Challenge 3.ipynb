{
 "cells": [
  {
   "cell_type": "code",
   "execution_count": 70,
   "id": "dff53882",
   "metadata": {},
   "outputs": [],
   "source": [
    "\"\"\"\n",
    "You are presented with an integer number larger than 5. Your goal is to identify the longest side\n",
    "possible in a right triangle whose sides are not longer than the number you are given.\n",
    "\n",
    "For example, if you are given the number 15, there are 3 possibilities to compose right triangles:\n",
    "\n",
    "1. [3, 4, 5]\n",
    "2. [6, 8, 10]\n",
    "3. [5, 12, 13]\n",
    "\n",
    "The following function shows one way to solve the problem but the code is not ideal or efficient.\n",
    "Refactor the code based on what you have learned about code simplicity and efficiency.\n",
    "\"\"\"\n",
    "#x = int(input(\"What is the maximal length of the triangle side? Enter a number: \"))\n",
    "\n",
    "def my_function(x):\n",
    "    solutions = [(x,y,z) for x in range (5,x) for y in range (4,x) for z in range (3,x) if x*x==y*y+z*z]   \n",
    "\n",
    "    m = 0\n",
    "    max_solution=[max(solution) for solution in solutions]\n",
    "    m = max(max_solution)\n",
    "    return m\n",
    "    print(\"The longest side possible is \" + str(my_function(int(x))))\n"
   ]
  },
  {
   "cell_type": "markdown",
   "id": "d9b56914",
   "metadata": {},
   "source": [
    "print(x)"
   ]
  },
  {
   "cell_type": "code",
   "execution_count": 75,
   "id": "c43e403f",
   "metadata": {},
   "outputs": [],
   "source": [
    "import random\n",
    "def RandomStringGenerator(l):\n",
    "    a=['a','b','c','d','e','f','g','h','i','j','k','l','m','n','o','p','q','r','s','t','u','v','w','x','y','z','0','1','2','3','4','5','6','7','8','9']\n",
    "    p = 0\n",
    "    s = ''\n",
    "    while p<l:\n",
    "        s += random.choice(a)\n",
    "        p += 1\n",
    "    return s\n",
    "\n"
   ]
  },
  {
   "cell_type": "code",
   "execution_count": null,
   "id": "e9a589ee",
   "metadata": {},
   "outputs": [],
   "source": []
  },
  {
   "cell_type": "code",
   "execution_count": 81,
   "id": "972ea268",
   "metadata": {},
   "outputs": [
    {
     "name": "stdout",
     "output_type": "stream",
     "text": [
      "Enter minimum string length: 5\n",
      "Enter maximum string length: 10\n",
      "How many random strings to generate? 16\n"
     ]
    }
   ],
   "source": [
    "def BatchStringGenerator(s_len,s_min,s_max):\n",
    "    r = []\n",
    "    for i in range(s_len):\n",
    "        if s_min < s_max:\n",
    "            l = random.choice(range(s_min, s_max))\n",
    "        elif s_min == s_max:\n",
    "            l = s_min\n",
    "        else:\n",
    "            import sys\n",
    "            sys.exit('Incorrect min and max string lengths. Try again.')\n",
    "        r.append(RandomStringGenerator(l))\n",
    "    return r\n",
    "try:\n",
    "    s_min = int(input('Enter minimum string length: '))\n",
    "    s_max = int(input('Enter maximum string length: '))\n",
    "    s_len = int(input('How many random strings to generate? '))\n",
    "except:\n",
    "    print('wrong input, try again')"
   ]
  },
  {
   "cell_type": "code",
   "execution_count": null,
   "id": "18b23b93",
   "metadata": {},
   "outputs": [],
   "source": []
  }
 ],
 "metadata": {
  "kernelspec": {
   "display_name": "Python 3",
   "language": "python",
   "name": "python3"
  },
  "language_info": {
   "codemirror_mode": {
    "name": "ipython",
    "version": 3
   },
   "file_extension": ".py",
   "mimetype": "text/x-python",
   "name": "python",
   "nbconvert_exporter": "python",
   "pygments_lexer": "ipython3",
   "version": "3.8.8"
  }
 },
 "nbformat": 4,
 "nbformat_minor": 5
}
